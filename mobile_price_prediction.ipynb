{
  "cells": [
    {
      "cell_type": "markdown",
      "id": "c9d2adc9",
      "metadata": {
        "id": "c9d2adc9"
      },
      "source": [
        "---\n",
        "# **Mobile Price Prediction**\n",
        "---"
      ]
    },
    {
      "cell_type": "markdown",
      "id": "88959fb9",
      "metadata": {
        "id": "88959fb9"
      },
      "source": [
        "## About Dataset:\n",
        "\n",
        "- Phone Name is the name of the phone that is extracted.\n",
        "- Rating is what it gets out of 5 stars.\n",
        "- Number of Ratings is the Total number of people those rates this product.\n",
        "- Ram size\n",
        "- Rom is the Storage that the product has.\n",
        "- Front and Rare Camera in the Mega Pixels.\n",
        "- Battery size and processor of different types.\n",
        "- Lastly the price of the phone in Indian Rupees."
      ]
    },
    {
      "cell_type": "markdown",
      "id": "08108b70",
      "metadata": {
        "id": "08108b70"
      },
      "source": [
        "## Importing dependencies"
      ]
    },
    {
      "cell_type": "code",
      "execution_count": null,
      "id": "a2b59297",
      "metadata": {
        "execution": {
          "iopub.execute_input": "2023-09-29T09:48:47.322233Z",
          "iopub.status.busy": "2023-09-29T09:48:47.321743Z",
          "iopub.status.idle": "2023-09-29T09:48:47.330190Z",
          "shell.execute_reply": "2023-09-29T09:48:47.329469Z"
        },
        "papermill": {
          "duration": 0.018731,
          "end_time": "2023-09-29T09:48:47.331759",
          "exception": false,
          "start_time": "2023-09-29T09:48:47.313028",
          "status": "completed"
        },
        "tags": [],
        "id": "a2b59297"
      },
      "outputs": [],
      "source": [
        "import numpy as np, pandas as pd, matplotlib.pyplot as plt, seaborn as sns\n",
        "from sklearn.model_selection import train_test_split\n",
        "from sklearn.linear_model import LinearRegression\n",
        "from sklearn.preprocessing import StandardScaler\n",
        "from statsmodels.stats.outliers_influence import variance_inflation_factor\n",
        "from statsmodels.tools.tools import add_constant\n",
        "from sklearn.metrics import mean_absolute_error, mean_squared_error, r2_score\n",
        "from scipy.stats import shapiro\n",
        "import xgboost as xgb\n",
        "from sklearn.impute import SimpleImputer\n",
        "from sklearn.tree import DecisionTreeRegressor\n",
        "from sklearn.ensemble import RandomForestRegressor\n",
        "from sklearn.metrics import mean_absolute_error, mean_squared_error, r2_score"
      ]
    },
    {
      "cell_type": "markdown",
      "id": "10b5c893",
      "metadata": {
        "id": "10b5c893"
      },
      "source": [
        "## Importing Data"
      ]
    },
    {
      "cell_type": "code",
      "execution_count": null,
      "id": "eb3c2e94",
      "metadata": {
        "execution": {
          "iopub.execute_input": "2023-09-29T09:48:47.344083Z",
          "iopub.status.busy": "2023-09-29T09:48:47.343733Z",
          "iopub.status.idle": "2023-09-29T09:48:47.403310Z",
          "shell.execute_reply": "2023-09-29T09:48:47.401505Z"
        },
        "papermill": {
          "duration": 0.067838,
          "end_time": "2023-09-29T09:48:47.405277",
          "exception": false,
          "start_time": "2023-09-29T09:48:47.337439",
          "status": "completed"
        },
        "tags": [],
        "colab": {
          "base_uri": "https://localhost:8080/",
          "height": 997
        },
        "id": "eb3c2e94",
        "outputId": "b46f82d2-0c9b-4ff4-e7ea-007d0a4f828c"
      },
      "outputs": [
        {
          "output_type": "execute_result",
          "data": {
            "text/plain": [
              "                                    Phone Name  Rating ?/5 Number of Ratings  \\\n",
              "0                 POCO C50 (Royal Blue, 32 GB)         4.2            33,561   \n",
              "1                POCO M4 5G (Cool Blue, 64 GB)         4.2            77,128   \n",
              "2                 POCO C51 (Royal Blue, 64 GB)         4.3            15,175   \n",
              "3                  POCO C55 (Cool Blue, 64 GB)         4.2            22,621   \n",
              "4                POCO C51 (Power Black, 64 GB)         4.3            15,175   \n",
              "...                                        ...         ...               ...   \n",
              "1831      Infinix Note 7 (Forest Green, 64 GB)         4.3            25,582   \n",
              "1832      Infinix Note 7 (Bolivia Blue, 64 GB)         4.3            25,582   \n",
              "1833      Infinix Note 7 (Aether Black, 64 GB)         4.3            25,582   \n",
              "1834  Infinix Zero 8i (Silver Diamond, 128 GB)         4.2             7,117   \n",
              "1835          Infinix S5 (Quetzal Cyan, 64 GB)         4.3            15,701   \n",
              "\n",
              "           RAM ROM/Storage                     Back/Rare Camera  \\\n",
              "0     2 GB RAM   32 GB ROM                      8MP Dual Camera   \n",
              "1     4 GB RAM   64 GB ROM                           50MP + 2MP   \n",
              "2     4 GB RAM   64 GB ROM                 8MP Dual Rear Camera   \n",
              "3     4 GB RAM   64 GB ROM                50MP Dual Rear Camera   \n",
              "4     4 GB RAM   64 GB ROM                 8MP Dual Rear Camera   \n",
              "...        ...         ...                                  ...   \n",
              "1831  4 GB RAM   64 GB ROM    48MP + 2MP + 2MP + AI Lens Camera   \n",
              "1832  4 GB RAM   64 GB ROM    48MP + 2MP + 2MP + AI Lens Camera   \n",
              "1833  4 GB RAM   64 GB ROM    48MP + 2MP + 2MP + AI Lens Camera   \n",
              "1834  8 GB RAM  128 GB ROM    48MP + 8MP + 2MP + AI Lens Camera   \n",
              "1835  4 GB RAM   64 GB ROM  16MP + 5MP + 2MP + Low Light Sensor   \n",
              "\n",
              "                      Front Camera   Battery  \\\n",
              "0                 5MP Front Camera  5000 mAh   \n",
              "1                 8MP Front Camera  5000 mAh   \n",
              "2                 5MP Front Camera  5000 mAh   \n",
              "3                 5MP Front Camera  5000 mAh   \n",
              "4                 5MP Front Camera  5000 mAh   \n",
              "...                            ...       ...   \n",
              "1831             16MP Front Camera  5000 mAh   \n",
              "1832             16MP Front Camera  5000 mAh   \n",
              "1833             16MP Front Camera  5000 mAh   \n",
              "1834  16MP + 8MP Dual Front Camera  4500 mAh   \n",
              "1835             32MP Front Camera  4000 mAh   \n",
              "\n",
              "                                              Processor Price in INR  \\\n",
              "0     Mediatek Helio A22 Processor, Upto 2.0 GHz Pro...       ₹5,649   \n",
              "1                      Mediatek Dimensity 700 Processor      ₹11,999   \n",
              "2                                   Helio G36 Processor       ₹6,999   \n",
              "3                          Mediatek Helio G85 Processor       ₹7,749   \n",
              "4                                   Helio G36 Processor       ₹6,999   \n",
              "...                                                 ...          ...   \n",
              "1831                       MediaTek Helio G70 Processor      ₹14,999   \n",
              "1832                       MediaTek Helio G70 Processor      ₹14,999   \n",
              "1833                       MediaTek Helio G70 Processor      ₹14,999   \n",
              "1834                      MediaTek Helio G90T Processor      ₹18,999   \n",
              "1835                      Helio P22 (MTK6762) Processor      ₹10,999   \n",
              "\n",
              "     Date of Scraping  \n",
              "0          2023-06-17  \n",
              "1          2023-06-17  \n",
              "2          2023-06-17  \n",
              "3          2023-06-17  \n",
              "4          2023-06-17  \n",
              "...               ...  \n",
              "1831       2023-06-17  \n",
              "1832       2023-06-17  \n",
              "1833       2023-06-17  \n",
              "1834       2023-06-17  \n",
              "1835       2023-06-17  \n",
              "\n",
              "[1836 rows x 11 columns]"
            ],
            "text/html": [
              "\n",
              "  <div id=\"df-eaaafff5-f567-43c0-8482-fd5dd437b7b3\" class=\"colab-df-container\">\n",
              "    <div>\n",
              "<style scoped>\n",
              "    .dataframe tbody tr th:only-of-type {\n",
              "        vertical-align: middle;\n",
              "    }\n",
              "\n",
              "    .dataframe tbody tr th {\n",
              "        vertical-align: top;\n",
              "    }\n",
              "\n",
              "    .dataframe thead th {\n",
              "        text-align: right;\n",
              "    }\n",
              "</style>\n",
              "<table border=\"1\" class=\"dataframe\">\n",
              "  <thead>\n",
              "    <tr style=\"text-align: right;\">\n",
              "      <th></th>\n",
              "      <th>Phone Name</th>\n",
              "      <th>Rating ?/5</th>\n",
              "      <th>Number of Ratings</th>\n",
              "      <th>RAM</th>\n",
              "      <th>ROM/Storage</th>\n",
              "      <th>Back/Rare Camera</th>\n",
              "      <th>Front Camera</th>\n",
              "      <th>Battery</th>\n",
              "      <th>Processor</th>\n",
              "      <th>Price in INR</th>\n",
              "      <th>Date of Scraping</th>\n",
              "    </tr>\n",
              "  </thead>\n",
              "  <tbody>\n",
              "    <tr>\n",
              "      <th>0</th>\n",
              "      <td>POCO C50 (Royal Blue, 32 GB)</td>\n",
              "      <td>4.2</td>\n",
              "      <td>33,561</td>\n",
              "      <td>2 GB RAM</td>\n",
              "      <td>32 GB ROM</td>\n",
              "      <td>8MP Dual Camera</td>\n",
              "      <td>5MP Front Camera</td>\n",
              "      <td>5000 mAh</td>\n",
              "      <td>Mediatek Helio A22 Processor, Upto 2.0 GHz Pro...</td>\n",
              "      <td>₹5,649</td>\n",
              "      <td>2023-06-17</td>\n",
              "    </tr>\n",
              "    <tr>\n",
              "      <th>1</th>\n",
              "      <td>POCO M4 5G (Cool Blue, 64 GB)</td>\n",
              "      <td>4.2</td>\n",
              "      <td>77,128</td>\n",
              "      <td>4 GB RAM</td>\n",
              "      <td>64 GB ROM</td>\n",
              "      <td>50MP + 2MP</td>\n",
              "      <td>8MP Front Camera</td>\n",
              "      <td>5000 mAh</td>\n",
              "      <td>Mediatek Dimensity 700 Processor</td>\n",
              "      <td>₹11,999</td>\n",
              "      <td>2023-06-17</td>\n",
              "    </tr>\n",
              "    <tr>\n",
              "      <th>2</th>\n",
              "      <td>POCO C51 (Royal Blue, 64 GB)</td>\n",
              "      <td>4.3</td>\n",
              "      <td>15,175</td>\n",
              "      <td>4 GB RAM</td>\n",
              "      <td>64 GB ROM</td>\n",
              "      <td>8MP Dual Rear Camera</td>\n",
              "      <td>5MP Front Camera</td>\n",
              "      <td>5000 mAh</td>\n",
              "      <td>Helio G36 Processor</td>\n",
              "      <td>₹6,999</td>\n",
              "      <td>2023-06-17</td>\n",
              "    </tr>\n",
              "    <tr>\n",
              "      <th>3</th>\n",
              "      <td>POCO C55 (Cool Blue, 64 GB)</td>\n",
              "      <td>4.2</td>\n",
              "      <td>22,621</td>\n",
              "      <td>4 GB RAM</td>\n",
              "      <td>64 GB ROM</td>\n",
              "      <td>50MP Dual Rear Camera</td>\n",
              "      <td>5MP Front Camera</td>\n",
              "      <td>5000 mAh</td>\n",
              "      <td>Mediatek Helio G85 Processor</td>\n",
              "      <td>₹7,749</td>\n",
              "      <td>2023-06-17</td>\n",
              "    </tr>\n",
              "    <tr>\n",
              "      <th>4</th>\n",
              "      <td>POCO C51 (Power Black, 64 GB)</td>\n",
              "      <td>4.3</td>\n",
              "      <td>15,175</td>\n",
              "      <td>4 GB RAM</td>\n",
              "      <td>64 GB ROM</td>\n",
              "      <td>8MP Dual Rear Camera</td>\n",
              "      <td>5MP Front Camera</td>\n",
              "      <td>5000 mAh</td>\n",
              "      <td>Helio G36 Processor</td>\n",
              "      <td>₹6,999</td>\n",
              "      <td>2023-06-17</td>\n",
              "    </tr>\n",
              "    <tr>\n",
              "      <th>...</th>\n",
              "      <td>...</td>\n",
              "      <td>...</td>\n",
              "      <td>...</td>\n",
              "      <td>...</td>\n",
              "      <td>...</td>\n",
              "      <td>...</td>\n",
              "      <td>...</td>\n",
              "      <td>...</td>\n",
              "      <td>...</td>\n",
              "      <td>...</td>\n",
              "      <td>...</td>\n",
              "    </tr>\n",
              "    <tr>\n",
              "      <th>1831</th>\n",
              "      <td>Infinix Note 7 (Forest Green, 64 GB)</td>\n",
              "      <td>4.3</td>\n",
              "      <td>25,582</td>\n",
              "      <td>4 GB RAM</td>\n",
              "      <td>64 GB ROM</td>\n",
              "      <td>48MP + 2MP + 2MP + AI Lens Camera</td>\n",
              "      <td>16MP Front Camera</td>\n",
              "      <td>5000 mAh</td>\n",
              "      <td>MediaTek Helio G70 Processor</td>\n",
              "      <td>₹14,999</td>\n",
              "      <td>2023-06-17</td>\n",
              "    </tr>\n",
              "    <tr>\n",
              "      <th>1832</th>\n",
              "      <td>Infinix Note 7 (Bolivia Blue, 64 GB)</td>\n",
              "      <td>4.3</td>\n",
              "      <td>25,582</td>\n",
              "      <td>4 GB RAM</td>\n",
              "      <td>64 GB ROM</td>\n",
              "      <td>48MP + 2MP + 2MP + AI Lens Camera</td>\n",
              "      <td>16MP Front Camera</td>\n",
              "      <td>5000 mAh</td>\n",
              "      <td>MediaTek Helio G70 Processor</td>\n",
              "      <td>₹14,999</td>\n",
              "      <td>2023-06-17</td>\n",
              "    </tr>\n",
              "    <tr>\n",
              "      <th>1833</th>\n",
              "      <td>Infinix Note 7 (Aether Black, 64 GB)</td>\n",
              "      <td>4.3</td>\n",
              "      <td>25,582</td>\n",
              "      <td>4 GB RAM</td>\n",
              "      <td>64 GB ROM</td>\n",
              "      <td>48MP + 2MP + 2MP + AI Lens Camera</td>\n",
              "      <td>16MP Front Camera</td>\n",
              "      <td>5000 mAh</td>\n",
              "      <td>MediaTek Helio G70 Processor</td>\n",
              "      <td>₹14,999</td>\n",
              "      <td>2023-06-17</td>\n",
              "    </tr>\n",
              "    <tr>\n",
              "      <th>1834</th>\n",
              "      <td>Infinix Zero 8i (Silver Diamond, 128 GB)</td>\n",
              "      <td>4.2</td>\n",
              "      <td>7,117</td>\n",
              "      <td>8 GB RAM</td>\n",
              "      <td>128 GB ROM</td>\n",
              "      <td>48MP + 8MP + 2MP + AI Lens Camera</td>\n",
              "      <td>16MP + 8MP Dual Front Camera</td>\n",
              "      <td>4500 mAh</td>\n",
              "      <td>MediaTek Helio G90T Processor</td>\n",
              "      <td>₹18,999</td>\n",
              "      <td>2023-06-17</td>\n",
              "    </tr>\n",
              "    <tr>\n",
              "      <th>1835</th>\n",
              "      <td>Infinix S5 (Quetzal Cyan, 64 GB)</td>\n",
              "      <td>4.3</td>\n",
              "      <td>15,701</td>\n",
              "      <td>4 GB RAM</td>\n",
              "      <td>64 GB ROM</td>\n",
              "      <td>16MP + 5MP + 2MP + Low Light Sensor</td>\n",
              "      <td>32MP Front Camera</td>\n",
              "      <td>4000 mAh</td>\n",
              "      <td>Helio P22 (MTK6762) Processor</td>\n",
              "      <td>₹10,999</td>\n",
              "      <td>2023-06-17</td>\n",
              "    </tr>\n",
              "  </tbody>\n",
              "</table>\n",
              "<p>1836 rows × 11 columns</p>\n",
              "</div>\n",
              "    <div class=\"colab-df-buttons\">\n",
              "\n",
              "  <div class=\"colab-df-container\">\n",
              "    <button class=\"colab-df-convert\" onclick=\"convertToInteractive('df-eaaafff5-f567-43c0-8482-fd5dd437b7b3')\"\n",
              "            title=\"Convert this dataframe to an interactive table.\"\n",
              "            style=\"display:none;\">\n",
              "\n",
              "  <svg xmlns=\"http://www.w3.org/2000/svg\" height=\"24px\" viewBox=\"0 -960 960 960\">\n",
              "    <path d=\"M120-120v-720h720v720H120Zm60-500h600v-160H180v160Zm220 220h160v-160H400v160Zm0 220h160v-160H400v160ZM180-400h160v-160H180v160Zm440 0h160v-160H620v160ZM180-180h160v-160H180v160Zm440 0h160v-160H620v160Z\"/>\n",
              "  </svg>\n",
              "    </button>\n",
              "\n",
              "  <style>\n",
              "    .colab-df-container {\n",
              "      display:flex;\n",
              "      gap: 12px;\n",
              "    }\n",
              "\n",
              "    .colab-df-convert {\n",
              "      background-color: #E8F0FE;\n",
              "      border: none;\n",
              "      border-radius: 50%;\n",
              "      cursor: pointer;\n",
              "      display: none;\n",
              "      fill: #1967D2;\n",
              "      height: 32px;\n",
              "      padding: 0 0 0 0;\n",
              "      width: 32px;\n",
              "    }\n",
              "\n",
              "    .colab-df-convert:hover {\n",
              "      background-color: #E2EBFA;\n",
              "      box-shadow: 0px 1px 2px rgba(60, 64, 67, 0.3), 0px 1px 3px 1px rgba(60, 64, 67, 0.15);\n",
              "      fill: #174EA6;\n",
              "    }\n",
              "\n",
              "    .colab-df-buttons div {\n",
              "      margin-bottom: 4px;\n",
              "    }\n",
              "\n",
              "    [theme=dark] .colab-df-convert {\n",
              "      background-color: #3B4455;\n",
              "      fill: #D2E3FC;\n",
              "    }\n",
              "\n",
              "    [theme=dark] .colab-df-convert:hover {\n",
              "      background-color: #434B5C;\n",
              "      box-shadow: 0px 1px 3px 1px rgba(0, 0, 0, 0.15);\n",
              "      filter: drop-shadow(0px 1px 2px rgba(0, 0, 0, 0.3));\n",
              "      fill: #FFFFFF;\n",
              "    }\n",
              "  </style>\n",
              "\n",
              "    <script>\n",
              "      const buttonEl =\n",
              "        document.querySelector('#df-eaaafff5-f567-43c0-8482-fd5dd437b7b3 button.colab-df-convert');\n",
              "      buttonEl.style.display =\n",
              "        google.colab.kernel.accessAllowed ? 'block' : 'none';\n",
              "\n",
              "      async function convertToInteractive(key) {\n",
              "        const element = document.querySelector('#df-eaaafff5-f567-43c0-8482-fd5dd437b7b3');\n",
              "        const dataTable =\n",
              "          await google.colab.kernel.invokeFunction('convertToInteractive',\n",
              "                                                    [key], {});\n",
              "        if (!dataTable) return;\n",
              "\n",
              "        const docLinkHtml = 'Like what you see? Visit the ' +\n",
              "          '<a target=\"_blank\" href=https://colab.research.google.com/notebooks/data_table.ipynb>data table notebook</a>'\n",
              "          + ' to learn more about interactive tables.';\n",
              "        element.innerHTML = '';\n",
              "        dataTable['output_type'] = 'display_data';\n",
              "        await google.colab.output.renderOutput(dataTable, element);\n",
              "        const docLink = document.createElement('div');\n",
              "        docLink.innerHTML = docLinkHtml;\n",
              "        element.appendChild(docLink);\n",
              "      }\n",
              "    </script>\n",
              "  </div>\n",
              "\n",
              "\n",
              "<div id=\"df-65145e56-4d5f-4206-a299-70e9c5c01ead\">\n",
              "  <button class=\"colab-df-quickchart\" onclick=\"quickchart('df-65145e56-4d5f-4206-a299-70e9c5c01ead')\"\n",
              "            title=\"Suggest charts\"\n",
              "            style=\"display:none;\">\n",
              "\n",
              "<svg xmlns=\"http://www.w3.org/2000/svg\" height=\"24px\"viewBox=\"0 0 24 24\"\n",
              "     width=\"24px\">\n",
              "    <g>\n",
              "        <path d=\"M19 3H5c-1.1 0-2 .9-2 2v14c0 1.1.9 2 2 2h14c1.1 0 2-.9 2-2V5c0-1.1-.9-2-2-2zM9 17H7v-7h2v7zm4 0h-2V7h2v10zm4 0h-2v-4h2v4z\"/>\n",
              "    </g>\n",
              "</svg>\n",
              "  </button>\n",
              "\n",
              "<style>\n",
              "  .colab-df-quickchart {\n",
              "      --bg-color: #E8F0FE;\n",
              "      --fill-color: #1967D2;\n",
              "      --hover-bg-color: #E2EBFA;\n",
              "      --hover-fill-color: #174EA6;\n",
              "      --disabled-fill-color: #AAA;\n",
              "      --disabled-bg-color: #DDD;\n",
              "  }\n",
              "\n",
              "  [theme=dark] .colab-df-quickchart {\n",
              "      --bg-color: #3B4455;\n",
              "      --fill-color: #D2E3FC;\n",
              "      --hover-bg-color: #434B5C;\n",
              "      --hover-fill-color: #FFFFFF;\n",
              "      --disabled-bg-color: #3B4455;\n",
              "      --disabled-fill-color: #666;\n",
              "  }\n",
              "\n",
              "  .colab-df-quickchart {\n",
              "    background-color: var(--bg-color);\n",
              "    border: none;\n",
              "    border-radius: 50%;\n",
              "    cursor: pointer;\n",
              "    display: none;\n",
              "    fill: var(--fill-color);\n",
              "    height: 32px;\n",
              "    padding: 0;\n",
              "    width: 32px;\n",
              "  }\n",
              "\n",
              "  .colab-df-quickchart:hover {\n",
              "    background-color: var(--hover-bg-color);\n",
              "    box-shadow: 0 1px 2px rgba(60, 64, 67, 0.3), 0 1px 3px 1px rgba(60, 64, 67, 0.15);\n",
              "    fill: var(--button-hover-fill-color);\n",
              "  }\n",
              "\n",
              "  .colab-df-quickchart-complete:disabled,\n",
              "  .colab-df-quickchart-complete:disabled:hover {\n",
              "    background-color: var(--disabled-bg-color);\n",
              "    fill: var(--disabled-fill-color);\n",
              "    box-shadow: none;\n",
              "  }\n",
              "\n",
              "  .colab-df-spinner {\n",
              "    border: 2px solid var(--fill-color);\n",
              "    border-color: transparent;\n",
              "    border-bottom-color: var(--fill-color);\n",
              "    animation:\n",
              "      spin 1s steps(1) infinite;\n",
              "  }\n",
              "\n",
              "  @keyframes spin {\n",
              "    0% {\n",
              "      border-color: transparent;\n",
              "      border-bottom-color: var(--fill-color);\n",
              "      border-left-color: var(--fill-color);\n",
              "    }\n",
              "    20% {\n",
              "      border-color: transparent;\n",
              "      border-left-color: var(--fill-color);\n",
              "      border-top-color: var(--fill-color);\n",
              "    }\n",
              "    30% {\n",
              "      border-color: transparent;\n",
              "      border-left-color: var(--fill-color);\n",
              "      border-top-color: var(--fill-color);\n",
              "      border-right-color: var(--fill-color);\n",
              "    }\n",
              "    40% {\n",
              "      border-color: transparent;\n",
              "      border-right-color: var(--fill-color);\n",
              "      border-top-color: var(--fill-color);\n",
              "    }\n",
              "    60% {\n",
              "      border-color: transparent;\n",
              "      border-right-color: var(--fill-color);\n",
              "    }\n",
              "    80% {\n",
              "      border-color: transparent;\n",
              "      border-right-color: var(--fill-color);\n",
              "      border-bottom-color: var(--fill-color);\n",
              "    }\n",
              "    90% {\n",
              "      border-color: transparent;\n",
              "      border-bottom-color: var(--fill-color);\n",
              "    }\n",
              "  }\n",
              "</style>\n",
              "\n",
              "  <script>\n",
              "    async function quickchart(key) {\n",
              "      const quickchartButtonEl =\n",
              "        document.querySelector('#' + key + ' button');\n",
              "      quickchartButtonEl.disabled = true;  // To prevent multiple clicks.\n",
              "      quickchartButtonEl.classList.add('colab-df-spinner');\n",
              "      try {\n",
              "        const charts = await google.colab.kernel.invokeFunction(\n",
              "            'suggestCharts', [key], {});\n",
              "      } catch (error) {\n",
              "        console.error('Error during call to suggestCharts:', error);\n",
              "      }\n",
              "      quickchartButtonEl.classList.remove('colab-df-spinner');\n",
              "      quickchartButtonEl.classList.add('colab-df-quickchart-complete');\n",
              "    }\n",
              "    (() => {\n",
              "      let quickchartButtonEl =\n",
              "        document.querySelector('#df-65145e56-4d5f-4206-a299-70e9c5c01ead button');\n",
              "      quickchartButtonEl.style.display =\n",
              "        google.colab.kernel.accessAllowed ? 'block' : 'none';\n",
              "    })();\n",
              "  </script>\n",
              "</div>\n",
              "\n",
              "  <div id=\"id_abf6b71b-f8e2-4af9-a3f0-49445d4b0c06\">\n",
              "    <style>\n",
              "      .colab-df-generate {\n",
              "        background-color: #E8F0FE;\n",
              "        border: none;\n",
              "        border-radius: 50%;\n",
              "        cursor: pointer;\n",
              "        display: none;\n",
              "        fill: #1967D2;\n",
              "        height: 32px;\n",
              "        padding: 0 0 0 0;\n",
              "        width: 32px;\n",
              "      }\n",
              "\n",
              "      .colab-df-generate:hover {\n",
              "        background-color: #E2EBFA;\n",
              "        box-shadow: 0px 1px 2px rgba(60, 64, 67, 0.3), 0px 1px 3px 1px rgba(60, 64, 67, 0.15);\n",
              "        fill: #174EA6;\n",
              "      }\n",
              "\n",
              "      [theme=dark] .colab-df-generate {\n",
              "        background-color: #3B4455;\n",
              "        fill: #D2E3FC;\n",
              "      }\n",
              "\n",
              "      [theme=dark] .colab-df-generate:hover {\n",
              "        background-color: #434B5C;\n",
              "        box-shadow: 0px 1px 3px 1px rgba(0, 0, 0, 0.15);\n",
              "        filter: drop-shadow(0px 1px 2px rgba(0, 0, 0, 0.3));\n",
              "        fill: #FFFFFF;\n",
              "      }\n",
              "    </style>\n",
              "    <button class=\"colab-df-generate\" onclick=\"generateWithVariable('df')\"\n",
              "            title=\"Generate code using this dataframe.\"\n",
              "            style=\"display:none;\">\n",
              "\n",
              "  <svg xmlns=\"http://www.w3.org/2000/svg\" height=\"24px\"viewBox=\"0 0 24 24\"\n",
              "       width=\"24px\">\n",
              "    <path d=\"M7,19H8.4L18.45,9,17,7.55,7,17.6ZM5,21V16.75L18.45,3.32a2,2,0,0,1,2.83,0l1.4,1.43a1.91,1.91,0,0,1,.58,1.4,1.91,1.91,0,0,1-.58,1.4L9.25,21ZM18.45,9,17,7.55Zm-12,3A5.31,5.31,0,0,0,4.9,8.1,5.31,5.31,0,0,0,1,6.5,5.31,5.31,0,0,0,4.9,4.9,5.31,5.31,0,0,0,6.5,1,5.31,5.31,0,0,0,8.1,4.9,5.31,5.31,0,0,0,12,6.5,5.46,5.46,0,0,0,6.5,12Z\"/>\n",
              "  </svg>\n",
              "    </button>\n",
              "    <script>\n",
              "      (() => {\n",
              "      const buttonEl =\n",
              "        document.querySelector('#id_abf6b71b-f8e2-4af9-a3f0-49445d4b0c06 button.colab-df-generate');\n",
              "      buttonEl.style.display =\n",
              "        google.colab.kernel.accessAllowed ? 'block' : 'none';\n",
              "\n",
              "      buttonEl.onclick = () => {\n",
              "        google.colab.notebook.generateWithVariable('df');\n",
              "      }\n",
              "      })();\n",
              "    </script>\n",
              "  </div>\n",
              "\n",
              "    </div>\n",
              "  </div>\n"
            ],
            "application/vnd.google.colaboratory.intrinsic+json": {
              "type": "dataframe",
              "variable_name": "df",
              "summary": "{\n  \"name\": \"df\",\n  \"rows\": 1836,\n  \"fields\": [\n    {\n      \"column\": \"Phone Name\",\n      \"properties\": {\n        \"dtype\": \"string\",\n        \"num_unique_values\": 1507,\n        \"samples\": [\n          \"SAMSUNG Galaxy M32 Prime Edition (Black, 64 GB)\",\n          \"Nokia 216 DS 2020\",\n          \"Apple iPhone XR (Coral, 64 GB) (Includes EarPods, Power Adapter)\"\n        ],\n        \"semantic_type\": \"\",\n        \"description\": \"\"\n      }\n    },\n    {\n      \"column\": \"Rating ?/5\",\n      \"properties\": {\n        \"dtype\": \"number\",\n        \"std\": 0.5439121176090425,\n        \"min\": 0.0,\n        \"max\": 4.8,\n        \"num_unique_values\": 22,\n        \"samples\": [\n          4.2,\n          4.8,\n          3.7\n        ],\n        \"semantic_type\": \"\",\n        \"description\": \"\"\n      }\n    },\n    {\n      \"column\": \"Number of Ratings\",\n      \"properties\": {\n        \"dtype\": \"category\",\n        \"num_unique_values\": 717,\n        \"samples\": [\n          \"47,287\",\n          \"2,702\",\n          \"2,56,360\"\n        ],\n        \"semantic_type\": \"\",\n        \"description\": \"\"\n      }\n    },\n    {\n      \"column\": \"RAM\",\n      \"properties\": {\n        \"dtype\": \"category\",\n        \"num_unique_values\": 46,\n        \"samples\": [\n          \"1 MB ROM\",\n          \"cm Display\",\n          \"32 MB RAM\"\n        ],\n        \"semantic_type\": \"\",\n        \"description\": \"\"\n      }\n    },\n    {\n      \"column\": \"ROM/Storage\",\n      \"properties\": {\n        \"dtype\": \"category\",\n        \"num_unique_values\": 27,\n        \"samples\": [\n          \"153 MB ROM\",\n          \"16 GB ROM\",\n          \"512 GB ROM\"\n        ],\n        \"semantic_type\": \"\",\n        \"description\": \"\"\n      }\n    },\n    {\n      \"column\": \"Back/Rare Camera\",\n      \"properties\": {\n        \"dtype\": \"category\",\n        \"num_unique_values\": 174,\n        \"samples\": [\n          \"50MP + 2MP Depth + AI Lens\",\n          \"12.3MP Rear Camera\",\n          \"12MP + 2MP\"\n        ],\n        \"semantic_type\": \"\",\n        \"description\": \"\"\n      }\n    },\n    {\n      \"column\": \"Front Camera\",\n      \"properties\": {\n        \"dtype\": \"category\",\n        \"num_unique_values\": 33,\n        \"samples\": [\n          \"13MP + 5MP Dual Front Camera\",\n          \"32MP + 2MP Dual Front Camera\",\n          \"4MP Front Camera\"\n        ],\n        \"semantic_type\": \"\",\n        \"description\": \"\"\n      }\n    },\n    {\n      \"column\": \"Battery\",\n      \"properties\": {\n        \"dtype\": \"category\",\n        \"num_unique_values\": 102,\n        \"samples\": [\n          \"4800 mAh\",\n          \"MediaTek mAh\",\n          \"3010 mAh\"\n        ],\n        \"semantic_type\": \"\",\n        \"description\": \"\"\n      }\n    },\n    {\n      \"column\": \"Processor\",\n      \"properties\": {\n        \"dtype\": \"category\",\n        \"num_unique_values\": 332,\n        \"samples\": [\n          \"Unisoc T612 Processor\",\n          \"G37 Processor\",\n          \"1 Year Manufacturer Warranty\"\n        ],\n        \"semantic_type\": \"\",\n        \"description\": \"\"\n      }\n    },\n    {\n      \"column\": \"Price in INR\",\n      \"properties\": {\n        \"dtype\": \"category\",\n        \"num_unique_values\": 519,\n        \"samples\": [\n          \"\\u20b954,999\",\n          \"\\u20b91,10,999\",\n          \"\\u20b98,999\"\n        ],\n        \"semantic_type\": \"\",\n        \"description\": \"\"\n      }\n    },\n    {\n      \"column\": \"Date of Scraping\",\n      \"properties\": {\n        \"dtype\": \"object\",\n        \"num_unique_values\": 1,\n        \"samples\": [\n          \"2023-06-17\"\n        ],\n        \"semantic_type\": \"\",\n        \"description\": \"\"\n      }\n    }\n  ]\n}"
            }
          },
          "metadata": {},
          "execution_count": 4
        }
      ],
      "source": [
        "df=pd.read_csv('/content/mobile_prices_2023.csv')\n",
        "df"
      ]
    },
    {
      "cell_type": "code",
      "execution_count": null,
      "id": "5f2714c0",
      "metadata": {
        "id": "5f2714c0"
      },
      "outputs": [],
      "source": [
        "df.drop(axis=1,columns='Date of Scraping',inplace=True)\n",
        "# df.drop(axis=1,columns='Phone Name',inplace=True)"
      ]
    },
    {
      "cell_type": "markdown",
      "id": "120bbf72",
      "metadata": {
        "id": "120bbf72"
      },
      "source": [
        "## Checking For Missing Values"
      ]
    },
    {
      "cell_type": "code",
      "execution_count": null,
      "id": "e6b76234",
      "metadata": {
        "execution": {
          "iopub.execute_input": "2023-09-29T09:48:47.442169Z",
          "iopub.status.busy": "2023-09-29T09:48:47.441753Z",
          "iopub.status.idle": "2023-09-29T09:48:47.452983Z",
          "shell.execute_reply": "2023-09-29T09:48:47.452013Z"
        },
        "papermill": {
          "duration": 0.019558,
          "end_time": "2023-09-29T09:48:47.454541",
          "exception": false,
          "start_time": "2023-09-29T09:48:47.434983",
          "status": "completed"
        },
        "tags": [],
        "colab": {
          "base_uri": "https://localhost:8080/"
        },
        "id": "e6b76234",
        "outputId": "302ff8ce-9632-4692-9aa1-3e2ae51d50d3"
      },
      "outputs": [
        {
          "output_type": "execute_result",
          "data": {
            "text/plain": [
              "Phone Name             0\n",
              "Rating ?/5             0\n",
              "Number of Ratings      0\n",
              "RAM                    0\n",
              "ROM/Storage          174\n",
              "Back/Rare Camera       9\n",
              "Front Camera         401\n",
              "Battery               10\n",
              "Processor             55\n",
              "Price in INR           0\n",
              "dtype: int64"
            ]
          },
          "metadata": {},
          "execution_count": 6
        }
      ],
      "source": [
        "df.isna().sum()"
      ]
    },
    {
      "cell_type": "markdown",
      "id": "02317727",
      "metadata": {
        "id": "02317727"
      },
      "source": [
        "### Replacing missing value"
      ]
    },
    {
      "cell_type": "code",
      "execution_count": null,
      "id": "f4ec84bf",
      "metadata": {
        "id": "f4ec84bf"
      },
      "outputs": [],
      "source": [
        "df_filled = df.fillna(df.mode())\n",
        "df=df_filled.copy()"
      ]
    },
    {
      "cell_type": "code",
      "execution_count": null,
      "id": "30aab026",
      "metadata": {
        "execution": {
          "iopub.execute_input": "2023-09-29T09:48:47.508266Z",
          "iopub.status.busy": "2023-09-29T09:48:47.507763Z",
          "iopub.status.idle": "2023-09-29T09:48:47.538043Z",
          "shell.execute_reply": "2023-09-29T09:48:47.536153Z"
        },
        "papermill": {
          "duration": 0.0416,
          "end_time": "2023-09-29T09:48:47.540838",
          "exception": false,
          "start_time": "2023-09-29T09:48:47.499238",
          "status": "completed"
        },
        "tags": [],
        "colab": {
          "base_uri": "https://localhost:8080/"
        },
        "id": "30aab026",
        "outputId": "4612aa77-58e9-470c-915b-a1c25e493051"
      },
      "outputs": [
        {
          "output_type": "execute_result",
          "data": {
            "text/plain": [
              "Phone Name             0\n",
              "Rating ?/5             0\n",
              "Number of Ratings      0\n",
              "RAM                    0\n",
              "ROM/Storage          174\n",
              "Back/Rare Camera       9\n",
              "Front Camera         401\n",
              "Battery               10\n",
              "Processor             55\n",
              "Price in INR           0\n",
              "dtype: int64"
            ]
          },
          "metadata": {},
          "execution_count": 8
        }
      ],
      "source": [
        "df.isnull().sum()"
      ]
    },
    {
      "cell_type": "markdown",
      "id": "d8ee88a9",
      "metadata": {
        "id": "d8ee88a9"
      },
      "source": [
        "# **Feature Extraction**"
      ]
    },
    {
      "cell_type": "markdown",
      "id": "3ba99afc",
      "metadata": {
        "id": "3ba99afc"
      },
      "source": [
        "#### Price Extraction from column Price in INR"
      ]
    },
    {
      "cell_type": "code",
      "execution_count": null,
      "id": "e6b1b490",
      "metadata": {
        "execution": {
          "iopub.execute_input": "2023-09-29T09:48:47.593783Z",
          "iopub.status.busy": "2023-09-29T09:48:47.593447Z",
          "iopub.status.idle": "2023-09-29T09:48:47.603615Z",
          "shell.execute_reply": "2023-09-29T09:48:47.601748Z"
        },
        "papermill": {
          "duration": 0.022109,
          "end_time": "2023-09-29T09:48:47.606725",
          "exception": false,
          "start_time": "2023-09-29T09:48:47.584616",
          "status": "completed"
        },
        "tags": [],
        "colab": {
          "base_uri": "https://localhost:8080/",
          "height": 199
        },
        "id": "e6b1b490",
        "outputId": "8741aba4-8e43-4e85-aebc-fd2d73ceffa3"
      },
      "outputs": [
        {
          "output_type": "execute_result",
          "data": {
            "text/plain": [
              "                      Phone Name  Rating ?/5 Number of Ratings       RAM  \\\n",
              "0   POCO C50 (Royal Blue, 32 GB)         4.2            33,561  2 GB RAM   \n",
              "1  POCO M4 5G (Cool Blue, 64 GB)         4.2            77,128  4 GB RAM   \n",
              "\n",
              "  ROM/Storage Back/Rare Camera      Front Camera   Battery  \\\n",
              "0   32 GB ROM  8MP Dual Camera  5MP Front Camera  5000 mAh   \n",
              "1   64 GB ROM       50MP + 2MP  8MP Front Camera  5000 mAh   \n",
              "\n",
              "                                           Processor  Price in INR  \n",
              "0  Mediatek Helio A22 Processor, Upto 2.0 GHz Pro...        5649.0  \n",
              "1                   Mediatek Dimensity 700 Processor       11999.0  "
            ],
            "text/html": [
              "\n",
              "  <div id=\"df-5ba48d6f-1b3b-460a-a9c0-2c64ab7e9135\" class=\"colab-df-container\">\n",
              "    <div>\n",
              "<style scoped>\n",
              "    .dataframe tbody tr th:only-of-type {\n",
              "        vertical-align: middle;\n",
              "    }\n",
              "\n",
              "    .dataframe tbody tr th {\n",
              "        vertical-align: top;\n",
              "    }\n",
              "\n",
              "    .dataframe thead th {\n",
              "        text-align: right;\n",
              "    }\n",
              "</style>\n",
              "<table border=\"1\" class=\"dataframe\">\n",
              "  <thead>\n",
              "    <tr style=\"text-align: right;\">\n",
              "      <th></th>\n",
              "      <th>Phone Name</th>\n",
              "      <th>Rating ?/5</th>\n",
              "      <th>Number of Ratings</th>\n",
              "      <th>RAM</th>\n",
              "      <th>ROM/Storage</th>\n",
              "      <th>Back/Rare Camera</th>\n",
              "      <th>Front Camera</th>\n",
              "      <th>Battery</th>\n",
              "      <th>Processor</th>\n",
              "      <th>Price in INR</th>\n",
              "    </tr>\n",
              "  </thead>\n",
              "  <tbody>\n",
              "    <tr>\n",
              "      <th>0</th>\n",
              "      <td>POCO C50 (Royal Blue, 32 GB)</td>\n",
              "      <td>4.2</td>\n",
              "      <td>33,561</td>\n",
              "      <td>2 GB RAM</td>\n",
              "      <td>32 GB ROM</td>\n",
              "      <td>8MP Dual Camera</td>\n",
              "      <td>5MP Front Camera</td>\n",
              "      <td>5000 mAh</td>\n",
              "      <td>Mediatek Helio A22 Processor, Upto 2.0 GHz Pro...</td>\n",
              "      <td>5649.0</td>\n",
              "    </tr>\n",
              "    <tr>\n",
              "      <th>1</th>\n",
              "      <td>POCO M4 5G (Cool Blue, 64 GB)</td>\n",
              "      <td>4.2</td>\n",
              "      <td>77,128</td>\n",
              "      <td>4 GB RAM</td>\n",
              "      <td>64 GB ROM</td>\n",
              "      <td>50MP + 2MP</td>\n",
              "      <td>8MP Front Camera</td>\n",
              "      <td>5000 mAh</td>\n",
              "      <td>Mediatek Dimensity 700 Processor</td>\n",
              "      <td>11999.0</td>\n",
              "    </tr>\n",
              "  </tbody>\n",
              "</table>\n",
              "</div>\n",
              "    <div class=\"colab-df-buttons\">\n",
              "\n",
              "  <div class=\"colab-df-container\">\n",
              "    <button class=\"colab-df-convert\" onclick=\"convertToInteractive('df-5ba48d6f-1b3b-460a-a9c0-2c64ab7e9135')\"\n",
              "            title=\"Convert this dataframe to an interactive table.\"\n",
              "            style=\"display:none;\">\n",
              "\n",
              "  <svg xmlns=\"http://www.w3.org/2000/svg\" height=\"24px\" viewBox=\"0 -960 960 960\">\n",
              "    <path d=\"M120-120v-720h720v720H120Zm60-500h600v-160H180v160Zm220 220h160v-160H400v160Zm0 220h160v-160H400v160ZM180-400h160v-160H180v160Zm440 0h160v-160H620v160ZM180-180h160v-160H180v160Zm440 0h160v-160H620v160Z\"/>\n",
              "  </svg>\n",
              "    </button>\n",
              "\n",
              "  <style>\n",
              "    .colab-df-container {\n",
              "      display:flex;\n",
              "      gap: 12px;\n",
              "    }\n",
              "\n",
              "    .colab-df-convert {\n",
              "      background-color: #E8F0FE;\n",
              "      border: none;\n",
              "      border-radius: 50%;\n",
              "      cursor: pointer;\n",
              "      display: none;\n",
              "      fill: #1967D2;\n",
              "      height: 32px;\n",
              "      padding: 0 0 0 0;\n",
              "      width: 32px;\n",
              "    }\n",
              "\n",
              "    .colab-df-convert:hover {\n",
              "      background-color: #E2EBFA;\n",
              "      box-shadow: 0px 1px 2px rgba(60, 64, 67, 0.3), 0px 1px 3px 1px rgba(60, 64, 67, 0.15);\n",
              "      fill: #174EA6;\n",
              "    }\n",
              "\n",
              "    .colab-df-buttons div {\n",
              "      margin-bottom: 4px;\n",
              "    }\n",
              "\n",
              "    [theme=dark] .colab-df-convert {\n",
              "      background-color: #3B4455;\n",
              "      fill: #D2E3FC;\n",
              "    }\n",
              "\n",
              "    [theme=dark] .colab-df-convert:hover {\n",
              "      background-color: #434B5C;\n",
              "      box-shadow: 0px 1px 3px 1px rgba(0, 0, 0, 0.15);\n",
              "      filter: drop-shadow(0px 1px 2px rgba(0, 0, 0, 0.3));\n",
              "      fill: #FFFFFF;\n",
              "    }\n",
              "  </style>\n",
              "\n",
              "    <script>\n",
              "      const buttonEl =\n",
              "        document.querySelector('#df-5ba48d6f-1b3b-460a-a9c0-2c64ab7e9135 button.colab-df-convert');\n",
              "      buttonEl.style.display =\n",
              "        google.colab.kernel.accessAllowed ? 'block' : 'none';\n",
              "\n",
              "      async function convertToInteractive(key) {\n",
              "        const element = document.querySelector('#df-5ba48d6f-1b3b-460a-a9c0-2c64ab7e9135');\n",
              "        const dataTable =\n",
              "          await google.colab.kernel.invokeFunction('convertToInteractive',\n",
              "                                                    [key], {});\n",
              "        if (!dataTable) return;\n",
              "\n",
              "        const docLinkHtml = 'Like what you see? Visit the ' +\n",
              "          '<a target=\"_blank\" href=https://colab.research.google.com/notebooks/data_table.ipynb>data table notebook</a>'\n",
              "          + ' to learn more about interactive tables.';\n",
              "        element.innerHTML = '';\n",
              "        dataTable['output_type'] = 'display_data';\n",
              "        await google.colab.output.renderOutput(dataTable, element);\n",
              "        const docLink = document.createElement('div');\n",
              "        docLink.innerHTML = docLinkHtml;\n",
              "        element.appendChild(docLink);\n",
              "      }\n",
              "    </script>\n",
              "  </div>\n",
              "\n",
              "\n",
              "<div id=\"df-9a4d7458-c0b2-4532-a293-0ebaaab89b4a\">\n",
              "  <button class=\"colab-df-quickchart\" onclick=\"quickchart('df-9a4d7458-c0b2-4532-a293-0ebaaab89b4a')\"\n",
              "            title=\"Suggest charts\"\n",
              "            style=\"display:none;\">\n",
              "\n",
              "<svg xmlns=\"http://www.w3.org/2000/svg\" height=\"24px\"viewBox=\"0 0 24 24\"\n",
              "     width=\"24px\">\n",
              "    <g>\n",
              "        <path d=\"M19 3H5c-1.1 0-2 .9-2 2v14c0 1.1.9 2 2 2h14c1.1 0 2-.9 2-2V5c0-1.1-.9-2-2-2zM9 17H7v-7h2v7zm4 0h-2V7h2v10zm4 0h-2v-4h2v4z\"/>\n",
              "    </g>\n",
              "</svg>\n",
              "  </button>\n",
              "\n",
              "<style>\n",
              "  .colab-df-quickchart {\n",
              "      --bg-color: #E8F0FE;\n",
              "      --fill-color: #1967D2;\n",
              "      --hover-bg-color: #E2EBFA;\n",
              "      --hover-fill-color: #174EA6;\n",
              "      --disabled-fill-color: #AAA;\n",
              "      --disabled-bg-color: #DDD;\n",
              "  }\n",
              "\n",
              "  [theme=dark] .colab-df-quickchart {\n",
              "      --bg-color: #3B4455;\n",
              "      --fill-color: #D2E3FC;\n",
              "      --hover-bg-color: #434B5C;\n",
              "      --hover-fill-color: #FFFFFF;\n",
              "      --disabled-bg-color: #3B4455;\n",
              "      --disabled-fill-color: #666;\n",
              "  }\n",
              "\n",
              "  .colab-df-quickchart {\n",
              "    background-color: var(--bg-color);\n",
              "    border: none;\n",
              "    border-radius: 50%;\n",
              "    cursor: pointer;\n",
              "    display: none;\n",
              "    fill: var(--fill-color);\n",
              "    height: 32px;\n",
              "    padding: 0;\n",
              "    width: 32px;\n",
              "  }\n",
              "\n",
              "  .colab-df-quickchart:hover {\n",
              "    background-color: var(--hover-bg-color);\n",
              "    box-shadow: 0 1px 2px rgba(60, 64, 67, 0.3), 0 1px 3px 1px rgba(60, 64, 67, 0.15);\n",
              "    fill: var(--button-hover-fill-color);\n",
              "  }\n",
              "\n",
              "  .colab-df-quickchart-complete:disabled,\n",
              "  .colab-df-quickchart-complete:disabled:hover {\n",
              "    background-color: var(--disabled-bg-color);\n",
              "    fill: var(--disabled-fill-color);\n",
              "    box-shadow: none;\n",
              "  }\n",
              "\n",
              "  .colab-df-spinner {\n",
              "    border: 2px solid var(--fill-color);\n",
              "    border-color: transparent;\n",
              "    border-bottom-color: var(--fill-color);\n",
              "    animation:\n",
              "      spin 1s steps(1) infinite;\n",
              "  }\n",
              "\n",
              "  @keyframes spin {\n",
              "    0% {\n",
              "      border-color: transparent;\n",
              "      border-bottom-color: var(--fill-color);\n",
              "      border-left-color: var(--fill-color);\n",
              "    }\n",
              "    20% {\n",
              "      border-color: transparent;\n",
              "      border-left-color: var(--fill-color);\n",
              "      border-top-color: var(--fill-color);\n",
              "    }\n",
              "    30% {\n",
              "      border-color: transparent;\n",
              "      border-left-color: var(--fill-color);\n",
              "      border-top-color: var(--fill-color);\n",
              "      border-right-color: var(--fill-color);\n",
              "    }\n",
              "    40% {\n",
              "      border-color: transparent;\n",
              "      border-right-color: var(--fill-color);\n",
              "      border-top-color: var(--fill-color);\n",
              "    }\n",
              "    60% {\n",
              "      border-color: transparent;\n",
              "      border-right-color: var(--fill-color);\n",
              "    }\n",
              "    80% {\n",
              "      border-color: transparent;\n",
              "      border-right-color: var(--fill-color);\n",
              "      border-bottom-color: var(--fill-color);\n",
              "    }\n",
              "    90% {\n",
              "      border-color: transparent;\n",
              "      border-bottom-color: var(--fill-color);\n",
              "    }\n",
              "  }\n",
              "</style>\n",
              "\n",
              "  <script>\n",
              "    async function quickchart(key) {\n",
              "      const quickchartButtonEl =\n",
              "        document.querySelector('#' + key + ' button');\n",
              "      quickchartButtonEl.disabled = true;  // To prevent multiple clicks.\n",
              "      quickchartButtonEl.classList.add('colab-df-spinner');\n",
              "      try {\n",
              "        const charts = await google.colab.kernel.invokeFunction(\n",
              "            'suggestCharts', [key], {});\n",
              "      } catch (error) {\n",
              "        console.error('Error during call to suggestCharts:', error);\n",
              "      }\n",
              "      quickchartButtonEl.classList.remove('colab-df-spinner');\n",
              "      quickchartButtonEl.classList.add('colab-df-quickchart-complete');\n",
              "    }\n",
              "    (() => {\n",
              "      let quickchartButtonEl =\n",
              "        document.querySelector('#df-9a4d7458-c0b2-4532-a293-0ebaaab89b4a button');\n",
              "      quickchartButtonEl.style.display =\n",
              "        google.colab.kernel.accessAllowed ? 'block' : 'none';\n",
              "    })();\n",
              "  </script>\n",
              "</div>\n",
              "\n",
              "    </div>\n",
              "  </div>\n"
            ],
            "application/vnd.google.colaboratory.intrinsic+json": {
              "type": "dataframe",
              "variable_name": "df",
              "summary": "{\n  \"name\": \"df\",\n  \"rows\": 1836,\n  \"fields\": [\n    {\n      \"column\": \"Phone Name\",\n      \"properties\": {\n        \"dtype\": \"string\",\n        \"num_unique_values\": 1507,\n        \"samples\": [\n          \"SAMSUNG Galaxy M32 Prime Edition (Black, 64 GB)\",\n          \"Nokia 216 DS 2020\",\n          \"Apple iPhone XR (Coral, 64 GB) (Includes EarPods, Power Adapter)\"\n        ],\n        \"semantic_type\": \"\",\n        \"description\": \"\"\n      }\n    },\n    {\n      \"column\": \"Rating ?/5\",\n      \"properties\": {\n        \"dtype\": \"number\",\n        \"std\": 0.5439121176090425,\n        \"min\": 0.0,\n        \"max\": 4.8,\n        \"num_unique_values\": 22,\n        \"samples\": [\n          4.2,\n          4.8,\n          3.7\n        ],\n        \"semantic_type\": \"\",\n        \"description\": \"\"\n      }\n    },\n    {\n      \"column\": \"Number of Ratings\",\n      \"properties\": {\n        \"dtype\": \"category\",\n        \"num_unique_values\": 717,\n        \"samples\": [\n          \"47,287\",\n          \"2,702\",\n          \"2,56,360\"\n        ],\n        \"semantic_type\": \"\",\n        \"description\": \"\"\n      }\n    },\n    {\n      \"column\": \"RAM\",\n      \"properties\": {\n        \"dtype\": \"category\",\n        \"num_unique_values\": 46,\n        \"samples\": [\n          \"1 MB ROM\",\n          \"cm Display\",\n          \"32 MB RAM\"\n        ],\n        \"semantic_type\": \"\",\n        \"description\": \"\"\n      }\n    },\n    {\n      \"column\": \"ROM/Storage\",\n      \"properties\": {\n        \"dtype\": \"category\",\n        \"num_unique_values\": 27,\n        \"samples\": [\n          \"153 MB ROM\",\n          \"16 GB ROM\",\n          \"512 GB ROM\"\n        ],\n        \"semantic_type\": \"\",\n        \"description\": \"\"\n      }\n    },\n    {\n      \"column\": \"Back/Rare Camera\",\n      \"properties\": {\n        \"dtype\": \"category\",\n        \"num_unique_values\": 174,\n        \"samples\": [\n          \"50MP + 2MP Depth + AI Lens\",\n          \"12.3MP Rear Camera\",\n          \"12MP + 2MP\"\n        ],\n        \"semantic_type\": \"\",\n        \"description\": \"\"\n      }\n    },\n    {\n      \"column\": \"Front Camera\",\n      \"properties\": {\n        \"dtype\": \"category\",\n        \"num_unique_values\": 33,\n        \"samples\": [\n          \"13MP + 5MP Dual Front Camera\",\n          \"32MP + 2MP Dual Front Camera\",\n          \"4MP Front Camera\"\n        ],\n        \"semantic_type\": \"\",\n        \"description\": \"\"\n      }\n    },\n    {\n      \"column\": \"Battery\",\n      \"properties\": {\n        \"dtype\": \"category\",\n        \"num_unique_values\": 102,\n        \"samples\": [\n          \"4800 mAh\",\n          \"MediaTek mAh\",\n          \"3010 mAh\"\n        ],\n        \"semantic_type\": \"\",\n        \"description\": \"\"\n      }\n    },\n    {\n      \"column\": \"Processor\",\n      \"properties\": {\n        \"dtype\": \"category\",\n        \"num_unique_values\": 332,\n        \"samples\": [\n          \"Unisoc T612 Processor\",\n          \"G37 Processor\",\n          \"1 Year Manufacturer Warranty\"\n        ],\n        \"semantic_type\": \"\",\n        \"description\": \"\"\n      }\n    },\n    {\n      \"column\": \"Price in INR\",\n      \"properties\": {\n        \"dtype\": \"number\",\n        \"std\": 24376.085113337555,\n        \"min\": 1199.0,\n        \"max\": 169999.0,\n        \"num_unique_values\": 519,\n        \"samples\": [\n          54999.0,\n          110999.0,\n          8999.0\n        ],\n        \"semantic_type\": \"\",\n        \"description\": \"\"\n      }\n    }\n  ]\n}"
            }
          },
          "metadata": {},
          "execution_count": 9
        }
      ],
      "source": [
        "main_label = 'Price in INR'\n",
        "def replace_rupee(y):\n",
        "    if '₹' in str(y):\n",
        "        return int(y[1:].replace(',',''))\n",
        "    else:\n",
        "        return int(y)\n",
        "df[main_label] = df[main_label].apply(replace_rupee)\n",
        "df['Price in INR'] = df['Price in INR'].astype(float)\n",
        "df.head(2)"
      ]
    },
    {
      "cell_type": "markdown",
      "id": "c473b903",
      "metadata": {
        "id": "c473b903"
      },
      "source": [
        "#### Extracting Company Name"
      ]
    },
    {
      "cell_type": "code",
      "execution_count": null,
      "id": "eeda1898",
      "metadata": {
        "colab": {
          "base_uri": "https://localhost:8080/",
          "height": 112
        },
        "id": "eeda1898",
        "outputId": "d8c27557-ab96-40be-ab69-a9ebba055ab9"
      },
      "outputs": [
        {
          "output_type": "execute_result",
          "data": {
            "text/plain": [
              "  Company_Name\n",
              "0         POCO\n",
              "1         POCO"
            ],
            "text/html": [
              "\n",
              "  <div id=\"df-f420d4f1-f521-44c1-a004-755de59bafd8\" class=\"colab-df-container\">\n",
              "    <div>\n",
              "<style scoped>\n",
              "    .dataframe tbody tr th:only-of-type {\n",
              "        vertical-align: middle;\n",
              "    }\n",
              "\n",
              "    .dataframe tbody tr th {\n",
              "        vertical-align: top;\n",
              "    }\n",
              "\n",
              "    .dataframe thead th {\n",
              "        text-align: right;\n",
              "    }\n",
              "</style>\n",
              "<table border=\"1\" class=\"dataframe\">\n",
              "  <thead>\n",
              "    <tr style=\"text-align: right;\">\n",
              "      <th></th>\n",
              "      <th>Company_Name</th>\n",
              "    </tr>\n",
              "  </thead>\n",
              "  <tbody>\n",
              "    <tr>\n",
              "      <th>0</th>\n",
              "      <td>POCO</td>\n",
              "    </tr>\n",
              "    <tr>\n",
              "      <th>1</th>\n",
              "      <td>POCO</td>\n",
              "    </tr>\n",
              "  </tbody>\n",
              "</table>\n",
              "</div>\n",
              "    <div class=\"colab-df-buttons\">\n",
              "\n",
              "  <div class=\"colab-df-container\">\n",
              "    <button class=\"colab-df-convert\" onclick=\"convertToInteractive('df-f420d4f1-f521-44c1-a004-755de59bafd8')\"\n",
              "            title=\"Convert this dataframe to an interactive table.\"\n",
              "            style=\"display:none;\">\n",
              "\n",
              "  <svg xmlns=\"http://www.w3.org/2000/svg\" height=\"24px\" viewBox=\"0 -960 960 960\">\n",
              "    <path d=\"M120-120v-720h720v720H120Zm60-500h600v-160H180v160Zm220 220h160v-160H400v160Zm0 220h160v-160H400v160ZM180-400h160v-160H180v160Zm440 0h160v-160H620v160ZM180-180h160v-160H180v160Zm440 0h160v-160H620v160Z\"/>\n",
              "  </svg>\n",
              "    </button>\n",
              "\n",
              "  <style>\n",
              "    .colab-df-container {\n",
              "      display:flex;\n",
              "      gap: 12px;\n",
              "    }\n",
              "\n",
              "    .colab-df-convert {\n",
              "      background-color: #E8F0FE;\n",
              "      border: none;\n",
              "      border-radius: 50%;\n",
              "      cursor: pointer;\n",
              "      display: none;\n",
              "      fill: #1967D2;\n",
              "      height: 32px;\n",
              "      padding: 0 0 0 0;\n",
              "      width: 32px;\n",
              "    }\n",
              "\n",
              "    .colab-df-convert:hover {\n",
              "      background-color: #E2EBFA;\n",
              "      box-shadow: 0px 1px 2px rgba(60, 64, 67, 0.3), 0px 1px 3px 1px rgba(60, 64, 67, 0.15);\n",
              "      fill: #174EA6;\n",
              "    }\n",
              "\n",
              "    .colab-df-buttons div {\n",
              "      margin-bottom: 4px;\n",
              "    }\n",
              "\n",
              "    [theme=dark] .colab-df-convert {\n",
              "      background-color: #3B4455;\n",
              "      fill: #D2E3FC;\n",
              "    }\n",
              "\n",
              "    [theme=dark] .colab-df-convert:hover {\n",
              "      background-color: #434B5C;\n",
              "      box-shadow: 0px 1px 3px 1px rgba(0, 0, 0, 0.15);\n",
              "      filter: drop-shadow(0px 1px 2px rgba(0, 0, 0, 0.3));\n",
              "      fill: #FFFFFF;\n",
              "    }\n",
              "  </style>\n",
              "\n",
              "    <script>\n",
              "      const buttonEl =\n",
              "        document.querySelector('#df-f420d4f1-f521-44c1-a004-755de59bafd8 button.colab-df-convert');\n",
              "      buttonEl.style.display =\n",
              "        google.colab.kernel.accessAllowed ? 'block' : 'none';\n",
              "\n",
              "      async function convertToInteractive(key) {\n",
              "        const element = document.querySelector('#df-f420d4f1-f521-44c1-a004-755de59bafd8');\n",
              "        const dataTable =\n",
              "          await google.colab.kernel.invokeFunction('convertToInteractive',\n",
              "                                                    [key], {});\n",
              "        if (!dataTable) return;\n",
              "\n",
              "        const docLinkHtml = 'Like what you see? Visit the ' +\n",
              "          '<a target=\"_blank\" href=https://colab.research.google.com/notebooks/data_table.ipynb>data table notebook</a>'\n",
              "          + ' to learn more about interactive tables.';\n",
              "        element.innerHTML = '';\n",
              "        dataTable['output_type'] = 'display_data';\n",
              "        await google.colab.output.renderOutput(dataTable, element);\n",
              "        const docLink = document.createElement('div');\n",
              "        docLink.innerHTML = docLinkHtml;\n",
              "        element.appendChild(docLink);\n",
              "      }\n",
              "    </script>\n",
              "  </div>\n",
              "\n",
              "\n",
              "<div id=\"df-b282e9e4-389e-48e6-876b-c741e38befd6\">\n",
              "  <button class=\"colab-df-quickchart\" onclick=\"quickchart('df-b282e9e4-389e-48e6-876b-c741e38befd6')\"\n",
              "            title=\"Suggest charts\"\n",
              "            style=\"display:none;\">\n",
              "\n",
              "<svg xmlns=\"http://www.w3.org/2000/svg\" height=\"24px\"viewBox=\"0 0 24 24\"\n",
              "     width=\"24px\">\n",
              "    <g>\n",
              "        <path d=\"M19 3H5c-1.1 0-2 .9-2 2v14c0 1.1.9 2 2 2h14c1.1 0 2-.9 2-2V5c0-1.1-.9-2-2-2zM9 17H7v-7h2v7zm4 0h-2V7h2v10zm4 0h-2v-4h2v4z\"/>\n",
              "    </g>\n",
              "</svg>\n",
              "  </button>\n",
              "\n",
              "<style>\n",
              "  .colab-df-quickchart {\n",
              "      --bg-color: #E8F0FE;\n",
              "      --fill-color: #1967D2;\n",
              "      --hover-bg-color: #E2EBFA;\n",
              "      --hover-fill-color: #174EA6;\n",
              "      --disabled-fill-color: #AAA;\n",
              "      --disabled-bg-color: #DDD;\n",
              "  }\n",
              "\n",
              "  [theme=dark] .colab-df-quickchart {\n",
              "      --bg-color: #3B4455;\n",
              "      --fill-color: #D2E3FC;\n",
              "      --hover-bg-color: #434B5C;\n",
              "      --hover-fill-color: #FFFFFF;\n",
              "      --disabled-bg-color: #3B4455;\n",
              "      --disabled-fill-color: #666;\n",
              "  }\n",
              "\n",
              "  .colab-df-quickchart {\n",
              "    background-color: var(--bg-color);\n",
              "    border: none;\n",
              "    border-radius: 50%;\n",
              "    cursor: pointer;\n",
              "    display: none;\n",
              "    fill: var(--fill-color);\n",
              "    height: 32px;\n",
              "    padding: 0;\n",
              "    width: 32px;\n",
              "  }\n",
              "\n",
              "  .colab-df-quickchart:hover {\n",
              "    background-color: var(--hover-bg-color);\n",
              "    box-shadow: 0 1px 2px rgba(60, 64, 67, 0.3), 0 1px 3px 1px rgba(60, 64, 67, 0.15);\n",
              "    fill: var(--button-hover-fill-color);\n",
              "  }\n",
              "\n",
              "  .colab-df-quickchart-complete:disabled,\n",
              "  .colab-df-quickchart-complete:disabled:hover {\n",
              "    background-color: var(--disabled-bg-color);\n",
              "    fill: var(--disabled-fill-color);\n",
              "    box-shadow: none;\n",
              "  }\n",
              "\n",
              "  .colab-df-spinner {\n",
              "    border: 2px solid var(--fill-color);\n",
              "    border-color: transparent;\n",
              "    border-bottom-color: var(--fill-color);\n",
              "    animation:\n",
              "      spin 1s steps(1) infinite;\n",
              "  }\n",
              "\n",
              "  @keyframes spin {\n",
              "    0% {\n",
              "      border-color: transparent;\n",
              "      border-bottom-color: var(--fill-color);\n",
              "      border-left-color: var(--fill-color);\n",
              "    }\n",
              "    20% {\n",
              "      border-color: transparent;\n",
              "      border-left-color: var(--fill-color);\n",
              "      border-top-color: var(--fill-color);\n",
              "    }\n",
              "    30% {\n",
              "      border-color: transparent;\n",
              "      border-left-color: var(--fill-color);\n",
              "      border-top-color: var(--fill-color);\n",
              "      border-right-color: var(--fill-color);\n",
              "    }\n",
              "    40% {\n",
              "      border-color: transparent;\n",
              "      border-right-color: var(--fill-color);\n",
              "      border-top-color: var(--fill-color);\n",
              "    }\n",
              "    60% {\n",
              "      border-color: transparent;\n",
              "      border-right-color: var(--fill-color);\n",
              "    }\n",
              "    80% {\n",
              "      border-color: transparent;\n",
              "      border-right-color: var(--fill-color);\n",
              "      border-bottom-color: var(--fill-color);\n",
              "    }\n",
              "    90% {\n",
              "      border-color: transparent;\n",
              "      border-bottom-color: var(--fill-color);\n",
              "    }\n",
              "  }\n",
              "</style>\n",
              "\n",
              "  <script>\n",
              "    async function quickchart(key) {\n",
              "      const quickchartButtonEl =\n",
              "        document.querySelector('#' + key + ' button');\n",
              "      quickchartButtonEl.disabled = true;  // To prevent multiple clicks.\n",
              "      quickchartButtonEl.classList.add('colab-df-spinner');\n",
              "      try {\n",
              "        const charts = await google.colab.kernel.invokeFunction(\n",
              "            'suggestCharts', [key], {});\n",
              "      } catch (error) {\n",
              "        console.error('Error during call to suggestCharts:', error);\n",
              "      }\n",
              "      quickchartButtonEl.classList.remove('colab-df-spinner');\n",
              "      quickchartButtonEl.classList.add('colab-df-quickchart-complete');\n",
              "    }\n",
              "    (() => {\n",
              "      let quickchartButtonEl =\n",
              "        document.querySelector('#df-b282e9e4-389e-48e6-876b-c741e38befd6 button');\n",
              "      quickchartButtonEl.style.display =\n",
              "        google.colab.kernel.accessAllowed ? 'block' : 'none';\n",
              "    })();\n",
              "  </script>\n",
              "</div>\n",
              "\n",
              "    </div>\n",
              "  </div>\n"
            ],
            "application/vnd.google.colaboratory.intrinsic+json": {
              "type": "dataframe",
              "summary": "{\n  \"name\": \"df[[ 'Company_Name']]\",\n  \"rows\": 2,\n  \"fields\": [\n    {\n      \"column\": \"Company_Name\",\n      \"properties\": {\n        \"dtype\": \"string\",\n        \"num_unique_values\": 1,\n        \"samples\": [\n          \"POCO\"\n        ],\n        \"semantic_type\": \"\",\n        \"description\": \"\"\n      }\n    }\n  ]\n}"
            }
          },
          "metadata": {},
          "execution_count": 10
        }
      ],
      "source": [
        "# Extracting company names from the 'Phone Name' column\n",
        "df['Company_Name'] = df['Phone Name'].apply(lambda x: x.split('(')[0].strip().split()[0])\n",
        "# Display the DataFrame with extracted company names\n",
        "df[[ 'Company_Name']].head(2)"
      ]
    },
    {
      "cell_type": "markdown",
      "id": "74d4a3c8",
      "metadata": {
        "id": "74d4a3c8"
      },
      "source": [
        "#### Feature engenerring of Processor"
      ]
    },
    {
      "cell_type": "code",
      "execution_count": null,
      "id": "e8c69356",
      "metadata": {
        "colab": {
          "base_uri": "https://localhost:8080/",
          "height": 112
        },
        "id": "e8c69356",
        "outputId": "805905ec-8e51-405d-b75b-4d125613a87b"
      },
      "outputs": [
        {
          "output_type": "execute_result",
          "data": {
            "text/plain": [
              "  Processor_Name\n",
              "0       Mediatek\n",
              "1       Mediatek"
            ],
            "text/html": [
              "\n",
              "  <div id=\"df-3531fa26-7dee-4f06-86db-bbe5ed875d61\" class=\"colab-df-container\">\n",
              "    <div>\n",
              "<style scoped>\n",
              "    .dataframe tbody tr th:only-of-type {\n",
              "        vertical-align: middle;\n",
              "    }\n",
              "\n",
              "    .dataframe tbody tr th {\n",
              "        vertical-align: top;\n",
              "    }\n",
              "\n",
              "    .dataframe thead th {\n",
              "        text-align: right;\n",
              "    }\n",
              "</style>\n",
              "<table border=\"1\" class=\"dataframe\">\n",
              "  <thead>\n",
              "    <tr style=\"text-align: right;\">\n",
              "      <th></th>\n",
              "      <th>Processor_Name</th>\n",
              "    </tr>\n",
              "  </thead>\n",
              "  <tbody>\n",
              "    <tr>\n",
              "      <th>0</th>\n",
              "      <td>Mediatek</td>\n",
              "    </tr>\n",
              "    <tr>\n",
              "      <th>1</th>\n",
              "      <td>Mediatek</td>\n",
              "    </tr>\n",
              "  </tbody>\n",
              "</table>\n",
              "</div>\n",
              "    <div class=\"colab-df-buttons\">\n",
              "\n",
              "  <div class=\"colab-df-container\">\n",
              "    <button class=\"colab-df-convert\" onclick=\"convertToInteractive('df-3531fa26-7dee-4f06-86db-bbe5ed875d61')\"\n",
              "            title=\"Convert this dataframe to an interactive table.\"\n",
              "            style=\"display:none;\">\n",
              "\n",
              "  <svg xmlns=\"http://www.w3.org/2000/svg\" height=\"24px\" viewBox=\"0 -960 960 960\">\n",
              "    <path d=\"M120-120v-720h720v720H120Zm60-500h600v-160H180v160Zm220 220h160v-160H400v160Zm0 220h160v-160H400v160ZM180-400h160v-160H180v160Zm440 0h160v-160H620v160ZM180-180h160v-160H180v160Zm440 0h160v-160H620v160Z\"/>\n",
              "  </svg>\n",
              "    </button>\n",
              "\n",
              "  <style>\n",
              "    .colab-df-container {\n",
              "      display:flex;\n",
              "      gap: 12px;\n",
              "    }\n",
              "\n",
              "    .colab-df-convert {\n",
              "      background-color: #E8F0FE;\n",
              "      border: none;\n",
              "      border-radius: 50%;\n",
              "      cursor: pointer;\n",
              "      display: none;\n",
              "      fill: #1967D2;\n",
              "      height: 32px;\n",
              "      padding: 0 0 0 0;\n",
              "      width: 32px;\n",
              "    }\n",
              "\n",
              "    .colab-df-convert:hover {\n",
              "      background-color: #E2EBFA;\n",
              "      box-shadow: 0px 1px 2px rgba(60, 64, 67, 0.3), 0px 1px 3px 1px rgba(60, 64, 67, 0.15);\n",
              "      fill: #174EA6;\n",
              "    }\n",
              "\n",
              "    .colab-df-buttons div {\n",
              "      margin-bottom: 4px;\n",
              "    }\n",
              "\n",
              "    [theme=dark] .colab-df-convert {\n",
              "      background-color: #3B4455;\n",
              "      fill: #D2E3FC;\n",
              "    }\n",
              "\n",
              "    [theme=dark] .colab-df-convert:hover {\n",
              "      background-color: #434B5C;\n",
              "      box-shadow: 0px 1px 3px 1px rgba(0, 0, 0, 0.15);\n",
              "      filter: drop-shadow(0px 1px 2px rgba(0, 0, 0, 0.3));\n",
              "      fill: #FFFFFF;\n",
              "    }\n",
              "  </style>\n",
              "\n",
              "    <script>\n",
              "      const buttonEl =\n",
              "        document.querySelector('#df-3531fa26-7dee-4f06-86db-bbe5ed875d61 button.colab-df-convert');\n",
              "      buttonEl.style.display =\n",
              "        google.colab.kernel.accessAllowed ? 'block' : 'none';\n",
              "\n",
              "      async function convertToInteractive(key) {\n",
              "        const element = document.querySelector('#df-3531fa26-7dee-4f06-86db-bbe5ed875d61');\n",
              "        const dataTable =\n",
              "          await google.colab.kernel.invokeFunction('convertToInteractive',\n",
              "                                                    [key], {});\n",
              "        if (!dataTable) return;\n",
              "\n",
              "        const docLinkHtml = 'Like what you see? Visit the ' +\n",
              "          '<a target=\"_blank\" href=https://colab.research.google.com/notebooks/data_table.ipynb>data table notebook</a>'\n",
              "          + ' to learn more about interactive tables.';\n",
              "        element.innerHTML = '';\n",
              "        dataTable['output_type'] = 'display_data';\n",
              "        await google.colab.output.renderOutput(dataTable, element);\n",
              "        const docLink = document.createElement('div');\n",
              "        docLink.innerHTML = docLinkHtml;\n",
              "        element.appendChild(docLink);\n",
              "      }\n",
              "    </script>\n",
              "  </div>\n",
              "\n",
              "\n",
              "<div id=\"df-e5a14495-b8ca-4093-a628-7d3142918175\">\n",
              "  <button class=\"colab-df-quickchart\" onclick=\"quickchart('df-e5a14495-b8ca-4093-a628-7d3142918175')\"\n",
              "            title=\"Suggest charts\"\n",
              "            style=\"display:none;\">\n",
              "\n",
              "<svg xmlns=\"http://www.w3.org/2000/svg\" height=\"24px\"viewBox=\"0 0 24 24\"\n",
              "     width=\"24px\">\n",
              "    <g>\n",
              "        <path d=\"M19 3H5c-1.1 0-2 .9-2 2v14c0 1.1.9 2 2 2h14c1.1 0 2-.9 2-2V5c0-1.1-.9-2-2-2zM9 17H7v-7h2v7zm4 0h-2V7h2v10zm4 0h-2v-4h2v4z\"/>\n",
              "    </g>\n",
              "</svg>\n",
              "  </button>\n",
              "\n",
              "<style>\n",
              "  .colab-df-quickchart {\n",
              "      --bg-color: #E8F0FE;\n",
              "      --fill-color: #1967D2;\n",
              "      --hover-bg-color: #E2EBFA;\n",
              "      --hover-fill-color: #174EA6;\n",
              "      --disabled-fill-color: #AAA;\n",
              "      --disabled-bg-color: #DDD;\n",
              "  }\n",
              "\n",
              "  [theme=dark] .colab-df-quickchart {\n",
              "      --bg-color: #3B4455;\n",
              "      --fill-color: #D2E3FC;\n",
              "      --hover-bg-color: #434B5C;\n",
              "      --hover-fill-color: #FFFFFF;\n",
              "      --disabled-bg-color: #3B4455;\n",
              "      --disabled-fill-color: #666;\n",
              "  }\n",
              "\n",
              "  .colab-df-quickchart {\n",
              "    background-color: var(--bg-color);\n",
              "    border: none;\n",
              "    border-radius: 50%;\n",
              "    cursor: pointer;\n",
              "    display: none;\n",
              "    fill: var(--fill-color);\n",
              "    height: 32px;\n",
              "    padding: 0;\n",
              "    width: 32px;\n",
              "  }\n",
              "\n",
              "  .colab-df-quickchart:hover {\n",
              "    background-color: var(--hover-bg-color);\n",
              "    box-shadow: 0 1px 2px rgba(60, 64, 67, 0.3), 0 1px 3px 1px rgba(60, 64, 67, 0.15);\n",
              "    fill: var(--button-hover-fill-color);\n",
              "  }\n",
              "\n",
              "  .colab-df-quickchart-complete:disabled,\n",
              "  .colab-df-quickchart-complete:disabled:hover {\n",
              "    background-color: var(--disabled-bg-color);\n",
              "    fill: var(--disabled-fill-color);\n",
              "    box-shadow: none;\n",
              "  }\n",
              "\n",
              "  .colab-df-spinner {\n",
              "    border: 2px solid var(--fill-color);\n",
              "    border-color: transparent;\n",
              "    border-bottom-color: var(--fill-color);\n",
              "    animation:\n",
              "      spin 1s steps(1) infinite;\n",
              "  }\n",
              "\n",
              "  @keyframes spin {\n",
              "    0% {\n",
              "      border-color: transparent;\n",
              "      border-bottom-color: var(--fill-color);\n",
              "      border-left-color: var(--fill-color);\n",
              "    }\n",
              "    20% {\n",
              "      border-color: transparent;\n",
              "      border-left-color: var(--fill-color);\n",
              "      border-top-color: var(--fill-color);\n",
              "    }\n",
              "    30% {\n",
              "      border-color: transparent;\n",
              "      border-left-color: var(--fill-color);\n",
              "      border-top-color: var(--fill-color);\n",
              "      border-right-color: var(--fill-color);\n",
              "    }\n",
              "    40% {\n",
              "      border-color: transparent;\n",
              "      border-right-color: var(--fill-color);\n",
              "      border-top-color: var(--fill-color);\n",
              "    }\n",
              "    60% {\n",
              "      border-color: transparent;\n",
              "      border-right-color: var(--fill-color);\n",
              "    }\n",
              "    80% {\n",
              "      border-color: transparent;\n",
              "      border-right-color: var(--fill-color);\n",
              "      border-bottom-color: var(--fill-color);\n",
              "    }\n",
              "    90% {\n",
              "      border-color: transparent;\n",
              "      border-bottom-color: var(--fill-color);\n",
              "    }\n",
              "  }\n",
              "</style>\n",
              "\n",
              "  <script>\n",
              "    async function quickchart(key) {\n",
              "      const quickchartButtonEl =\n",
              "        document.querySelector('#' + key + ' button');\n",
              "      quickchartButtonEl.disabled = true;  // To prevent multiple clicks.\n",
              "      quickchartButtonEl.classList.add('colab-df-spinner');\n",
              "      try {\n",
              "        const charts = await google.colab.kernel.invokeFunction(\n",
              "            'suggestCharts', [key], {});\n",
              "      } catch (error) {\n",
              "        console.error('Error during call to suggestCharts:', error);\n",
              "      }\n",
              "      quickchartButtonEl.classList.remove('colab-df-spinner');\n",
              "      quickchartButtonEl.classList.add('colab-df-quickchart-complete');\n",
              "    }\n",
              "    (() => {\n",
              "      let quickchartButtonEl =\n",
              "        document.querySelector('#df-e5a14495-b8ca-4093-a628-7d3142918175 button');\n",
              "      quickchartButtonEl.style.display =\n",
              "        google.colab.kernel.accessAllowed ? 'block' : 'none';\n",
              "    })();\n",
              "  </script>\n",
              "</div>\n",
              "\n",
              "    </div>\n",
              "  </div>\n"
            ],
            "application/vnd.google.colaboratory.intrinsic+json": {
              "type": "dataframe",
              "summary": "{\n  \"name\": \"df[['Processor_Name']]\",\n  \"rows\": 2,\n  \"fields\": [\n    {\n      \"column\": \"Processor_Name\",\n      \"properties\": {\n        \"dtype\": \"string\",\n        \"num_unique_values\": 1,\n        \"samples\": [\n          \"Mediatek\"\n        ],\n        \"semantic_type\": \"\",\n        \"description\": \"\"\n      }\n    }\n  ]\n}"
            }
          },
          "metadata": {},
          "execution_count": 11
        }
      ],
      "source": [
        "# Extracting company names from the 'Processor' column\n",
        "df['Processor_Name'] = df['Processor'].apply(lambda x: str(x).split('(')[0].strip().split()[0] if isinstance(x, str) else x)\n",
        "# Display the DataFrame with extracted company names\n",
        "df[['Processor_Name']].head(2)"
      ]
    },
    {
      "cell_type": "markdown",
      "id": "ecc5e61f",
      "metadata": {
        "id": "ecc5e61f"
      },
      "source": [
        "#### Feature engenerring of Battery"
      ]
    },
    {
      "cell_type": "code",
      "execution_count": null,
      "id": "76a7b0f9",
      "metadata": {
        "colab": {
          "base_uri": "https://localhost:8080/",
          "height": 112
        },
        "id": "76a7b0f9",
        "outputId": "88cc9d34-1564-4858-a6b7-ce33f89bd8c7"
      },
      "outputs": [
        {
          "output_type": "execute_result",
          "data": {
            "text/plain": [
              "  Battery_Size\n",
              "0         5000\n",
              "1         5000"
            ],
            "text/html": [
              "\n",
              "  <div id=\"df-de947ab8-c2f2-4b3b-ad2e-9123ac136d2f\" class=\"colab-df-container\">\n",
              "    <div>\n",
              "<style scoped>\n",
              "    .dataframe tbody tr th:only-of-type {\n",
              "        vertical-align: middle;\n",
              "    }\n",
              "\n",
              "    .dataframe tbody tr th {\n",
              "        vertical-align: top;\n",
              "    }\n",
              "\n",
              "    .dataframe thead th {\n",
              "        text-align: right;\n",
              "    }\n",
              "</style>\n",
              "<table border=\"1\" class=\"dataframe\">\n",
              "  <thead>\n",
              "    <tr style=\"text-align: right;\">\n",
              "      <th></th>\n",
              "      <th>Battery_Size</th>\n",
              "    </tr>\n",
              "  </thead>\n",
              "  <tbody>\n",
              "    <tr>\n",
              "      <th>0</th>\n",
              "      <td>5000</td>\n",
              "    </tr>\n",
              "    <tr>\n",
              "      <th>1</th>\n",
              "      <td>5000</td>\n",
              "    </tr>\n",
              "  </tbody>\n",
              "</table>\n",
              "</div>\n",
              "    <div class=\"colab-df-buttons\">\n",
              "\n",
              "  <div class=\"colab-df-container\">\n",
              "    <button class=\"colab-df-convert\" onclick=\"convertToInteractive('df-de947ab8-c2f2-4b3b-ad2e-9123ac136d2f')\"\n",
              "            title=\"Convert this dataframe to an interactive table.\"\n",
              "            style=\"display:none;\">\n",
              "\n",
              "  <svg xmlns=\"http://www.w3.org/2000/svg\" height=\"24px\" viewBox=\"0 -960 960 960\">\n",
              "    <path d=\"M120-120v-720h720v720H120Zm60-500h600v-160H180v160Zm220 220h160v-160H400v160Zm0 220h160v-160H400v160ZM180-400h160v-160H180v160Zm440 0h160v-160H620v160ZM180-180h160v-160H180v160Zm440 0h160v-160H620v160Z\"/>\n",
              "  </svg>\n",
              "    </button>\n",
              "\n",
              "  <style>\n",
              "    .colab-df-container {\n",
              "      display:flex;\n",
              "      gap: 12px;\n",
              "    }\n",
              "\n",
              "    .colab-df-convert {\n",
              "      background-color: #E8F0FE;\n",
              "      border: none;\n",
              "      border-radius: 50%;\n",
              "      cursor: pointer;\n",
              "      display: none;\n",
              "      fill: #1967D2;\n",
              "      height: 32px;\n",
              "      padding: 0 0 0 0;\n",
              "      width: 32px;\n",
              "    }\n",
              "\n",
              "    .colab-df-convert:hover {\n",
              "      background-color: #E2EBFA;\n",
              "      box-shadow: 0px 1px 2px rgba(60, 64, 67, 0.3), 0px 1px 3px 1px rgba(60, 64, 67, 0.15);\n",
              "      fill: #174EA6;\n",
              "    }\n",
              "\n",
              "    .colab-df-buttons div {\n",
              "      margin-bottom: 4px;\n",
              "    }\n",
              "\n",
              "    [theme=dark] .colab-df-convert {\n",
              "      background-color: #3B4455;\n",
              "      fill: #D2E3FC;\n",
              "    }\n",
              "\n",
              "    [theme=dark] .colab-df-convert:hover {\n",
              "      background-color: #434B5C;\n",
              "      box-shadow: 0px 1px 3px 1px rgba(0, 0, 0, 0.15);\n",
              "      filter: drop-shadow(0px 1px 2px rgba(0, 0, 0, 0.3));\n",
              "      fill: #FFFFFF;\n",
              "    }\n",
              "  </style>\n",
              "\n",
              "    <script>\n",
              "      const buttonEl =\n",
              "        document.querySelector('#df-de947ab8-c2f2-4b3b-ad2e-9123ac136d2f button.colab-df-convert');\n",
              "      buttonEl.style.display =\n",
              "        google.colab.kernel.accessAllowed ? 'block' : 'none';\n",
              "\n",
              "      async function convertToInteractive(key) {\n",
              "        const element = document.querySelector('#df-de947ab8-c2f2-4b3b-ad2e-9123ac136d2f');\n",
              "        const dataTable =\n",
              "          await google.colab.kernel.invokeFunction('convertToInteractive',\n",
              "                                                    [key], {});\n",
              "        if (!dataTable) return;\n",
              "\n",
              "        const docLinkHtml = 'Like what you see? Visit the ' +\n",
              "          '<a target=\"_blank\" href=https://colab.research.google.com/notebooks/data_table.ipynb>data table notebook</a>'\n",
              "          + ' to learn more about interactive tables.';\n",
              "        element.innerHTML = '';\n",
              "        dataTable['output_type'] = 'display_data';\n",
              "        await google.colab.output.renderOutput(dataTable, element);\n",
              "        const docLink = document.createElement('div');\n",
              "        docLink.innerHTML = docLinkHtml;\n",
              "        element.appendChild(docLink);\n",
              "      }\n",
              "    </script>\n",
              "  </div>\n",
              "\n",
              "\n",
              "<div id=\"df-ab830d7a-85e7-461c-8314-cb184531c8d0\">\n",
              "  <button class=\"colab-df-quickchart\" onclick=\"quickchart('df-ab830d7a-85e7-461c-8314-cb184531c8d0')\"\n",
              "            title=\"Suggest charts\"\n",
              "            style=\"display:none;\">\n",
              "\n",
              "<svg xmlns=\"http://www.w3.org/2000/svg\" height=\"24px\"viewBox=\"0 0 24 24\"\n",
              "     width=\"24px\">\n",
              "    <g>\n",
              "        <path d=\"M19 3H5c-1.1 0-2 .9-2 2v14c0 1.1.9 2 2 2h14c1.1 0 2-.9 2-2V5c0-1.1-.9-2-2-2zM9 17H7v-7h2v7zm4 0h-2V7h2v10zm4 0h-2v-4h2v4z\"/>\n",
              "    </g>\n",
              "</svg>\n",
              "  </button>\n",
              "\n",
              "<style>\n",
              "  .colab-df-quickchart {\n",
              "      --bg-color: #E8F0FE;\n",
              "      --fill-color: #1967D2;\n",
              "      --hover-bg-color: #E2EBFA;\n",
              "      --hover-fill-color: #174EA6;\n",
              "      --disabled-fill-color: #AAA;\n",
              "      --disabled-bg-color: #DDD;\n",
              "  }\n",
              "\n",
              "  [theme=dark] .colab-df-quickchart {\n",
              "      --bg-color: #3B4455;\n",
              "      --fill-color: #D2E3FC;\n",
              "      --hover-bg-color: #434B5C;\n",
              "      --hover-fill-color: #FFFFFF;\n",
              "      --disabled-bg-color: #3B4455;\n",
              "      --disabled-fill-color: #666;\n",
              "  }\n",
              "\n",
              "  .colab-df-quickchart {\n",
              "    background-color: var(--bg-color);\n",
              "    border: none;\n",
              "    border-radius: 50%;\n",
              "    cursor: pointer;\n",
              "    display: none;\n",
              "    fill: var(--fill-color);\n",
              "    height: 32px;\n",
              "    padding: 0;\n",
              "    width: 32px;\n",
              "  }\n",
              "\n",
              "  .colab-df-quickchart:hover {\n",
              "    background-color: var(--hover-bg-color);\n",
              "    box-shadow: 0 1px 2px rgba(60, 64, 67, 0.3), 0 1px 3px 1px rgba(60, 64, 67, 0.15);\n",
              "    fill: var(--button-hover-fill-color);\n",
              "  }\n",
              "\n",
              "  .colab-df-quickchart-complete:disabled,\n",
              "  .colab-df-quickchart-complete:disabled:hover {\n",
              "    background-color: var(--disabled-bg-color);\n",
              "    fill: var(--disabled-fill-color);\n",
              "    box-shadow: none;\n",
              "  }\n",
              "\n",
              "  .colab-df-spinner {\n",
              "    border: 2px solid var(--fill-color);\n",
              "    border-color: transparent;\n",
              "    border-bottom-color: var(--fill-color);\n",
              "    animation:\n",
              "      spin 1s steps(1) infinite;\n",
              "  }\n",
              "\n",
              "  @keyframes spin {\n",
              "    0% {\n",
              "      border-color: transparent;\n",
              "      border-bottom-color: var(--fill-color);\n",
              "      border-left-color: var(--fill-color);\n",
              "    }\n",
              "    20% {\n",
              "      border-color: transparent;\n",
              "      border-left-color: var(--fill-color);\n",
              "      border-top-color: var(--fill-color);\n",
              "    }\n",
              "    30% {\n",
              "      border-color: transparent;\n",
              "      border-left-color: var(--fill-color);\n",
              "      border-top-color: var(--fill-color);\n",
              "      border-right-color: var(--fill-color);\n",
              "    }\n",
              "    40% {\n",
              "      border-color: transparent;\n",
              "      border-right-color: var(--fill-color);\n",
              "      border-top-color: var(--fill-color);\n",
              "    }\n",
              "    60% {\n",
              "      border-color: transparent;\n",
              "      border-right-color: var(--fill-color);\n",
              "    }\n",
              "    80% {\n",
              "      border-color: transparent;\n",
              "      border-right-color: var(--fill-color);\n",
              "      border-bottom-color: var(--fill-color);\n",
              "    }\n",
              "    90% {\n",
              "      border-color: transparent;\n",
              "      border-bottom-color: var(--fill-color);\n",
              "    }\n",
              "  }\n",
              "</style>\n",
              "\n",
              "  <script>\n",
              "    async function quickchart(key) {\n",
              "      const quickchartButtonEl =\n",
              "        document.querySelector('#' + key + ' button');\n",
              "      quickchartButtonEl.disabled = true;  // To prevent multiple clicks.\n",
              "      quickchartButtonEl.classList.add('colab-df-spinner');\n",
              "      try {\n",
              "        const charts = await google.colab.kernel.invokeFunction(\n",
              "            'suggestCharts', [key], {});\n",
              "      } catch (error) {\n",
              "        console.error('Error during call to suggestCharts:', error);\n",
              "      }\n",
              "      quickchartButtonEl.classList.remove('colab-df-spinner');\n",
              "      quickchartButtonEl.classList.add('colab-df-quickchart-complete');\n",
              "    }\n",
              "    (() => {\n",
              "      let quickchartButtonEl =\n",
              "        document.querySelector('#df-ab830d7a-85e7-461c-8314-cb184531c8d0 button');\n",
              "      quickchartButtonEl.style.display =\n",
              "        google.colab.kernel.accessAllowed ? 'block' : 'none';\n",
              "    })();\n",
              "  </script>\n",
              "</div>\n",
              "\n",
              "    </div>\n",
              "  </div>\n"
            ],
            "application/vnd.google.colaboratory.intrinsic+json": {
              "type": "dataframe",
              "summary": "{\n  \"name\": \"df[['Battery_Size']]\",\n  \"rows\": 2,\n  \"fields\": [\n    {\n      \"column\": \"Battery_Size\",\n      \"properties\": {\n        \"dtype\": \"string\",\n        \"num_unique_values\": 1,\n        \"samples\": [\n          \"5000\"\n        ],\n        \"semantic_type\": \"\",\n        \"description\": \"\"\n      }\n    }\n  ]\n}"
            }
          },
          "metadata": {},
          "execution_count": 12
        }
      ],
      "source": [
        "# Extracting battery sizes from the 'Battery' column\n",
        "df['Battery_Size'] = df['Battery'].apply(lambda x: str(x).split('(')[0].strip().split()[0] if isinstance(x, str) else x)\n",
        "# Display the DataFrame with extracted battery sizes\n",
        "df[['Battery_Size']].head(2)"
      ]
    },
    {
      "cell_type": "markdown",
      "id": "ea8aac50",
      "metadata": {
        "id": "ea8aac50"
      },
      "source": [
        "#### Feature engenerring of Front Camera"
      ]
    },
    {
      "cell_type": "code",
      "execution_count": null,
      "id": "1e8c3516",
      "metadata": {
        "colab": {
          "base_uri": "https://localhost:8080/"
        },
        "id": "1e8c3516",
        "outputId": "5e65a134-5975-459b-a29c-abed3b770c9c"
      },
      "outputs": [
        {
          "output_type": "stream",
          "name": "stdout",
          "text": [
            "  Front_Camera_Number\n",
            "0                   5\n",
            "1                   8\n"
          ]
        }
      ],
      "source": [
        "import re\n",
        "# Extracting numbers from the 'Front Camera' column, handling NaN and non-string values\n",
        "df['Front_Camera_Number'] = df['Front Camera'].apply(lambda x: re.search(r'\\d+', str(x)).group() if pd.notna(x) and re.search(r'\\d+', str(x)) else None)\n",
        "# Display the DataFrame with extracted numbers\n",
        "print(df[['Front_Camera_Number']].head(2))\n"
      ]
    },
    {
      "cell_type": "markdown",
      "id": "d93cb85d",
      "metadata": {
        "id": "d93cb85d"
      },
      "source": [
        "#### Feature engenerring of Back/Rare Camera"
      ]
    },
    {
      "cell_type": "code",
      "execution_count": null,
      "id": "8e04b83c",
      "metadata": {
        "colab": {
          "base_uri": "https://localhost:8080/"
        },
        "id": "8e04b83c",
        "outputId": "7a28cdd4-8993-44c4-af3e-f0b518d0fd24"
      },
      "outputs": [
        {
          "output_type": "stream",
          "name": "stdout",
          "text": [
            "   Back/Rare_Camera_Sum\n",
            "0                   8.0\n",
            "1                  52.0\n"
          ]
        }
      ],
      "source": [
        "import re\n",
        "# Extracting numbers from the 'Back/Rare Camera' column\n",
        "df['Back/Rare_Camera_Sum'] = df['Back/Rare Camera'].apply(lambda x: sum(map(int, re.findall(r'\\d+', str(x)))) if re.findall(r'\\d+', str(x)) else None)\n",
        "# Display the DataFrame with extracted sums\n",
        "print(df[['Back/Rare_Camera_Sum']].head(2))\n"
      ]
    },
    {
      "cell_type": "markdown",
      "id": "cec5ed50",
      "metadata": {
        "id": "cec5ed50"
      },
      "source": [
        "#### Feature engenerring of RAM,ROM/Storage"
      ]
    },
    {
      "cell_type": "code",
      "execution_count": null,
      "id": "fa39d68d",
      "metadata": {
        "colab": {
          "base_uri": "https://localhost:8080/"
        },
        "id": "fa39d68d",
        "outputId": "ad26037b-e2d6-4901-a661-c52dc80b26cb"
      },
      "outputs": [
        {
          "output_type": "stream",
          "name": "stdout",
          "text": [
            "  RAM_Size ROM/Storage_Size\n",
            "0        2               32\n",
            "1        4               64\n"
          ]
        }
      ],
      "source": [
        "# Extracting RAM size from the 'RAM' column\n",
        "df['RAM_Size'] = df['RAM'].apply(lambda x: x.split('(')[0].strip().split()[0] if isinstance(x, str) else None)\n",
        "# Extracting ROM/Storage size from the 'ROM/Storage' column\n",
        "df['ROM/Storage_Size'] = df['ROM/Storage'].apply(lambda x: x.split('(')[0].strip().split()[0] if isinstance(x, str) else None)\n",
        "# Display the DataFrame with extracted RAM and ROM/Storage sizes\n",
        "print(df[['RAM_Size', 'ROM/Storage_Size']].head(2))\n"
      ]
    },
    {
      "cell_type": "markdown",
      "id": "e92eb90d",
      "metadata": {
        "id": "e92eb90d"
      },
      "source": [
        "#### Feature Engeneering of Ratings"
      ]
    },
    {
      "cell_type": "code",
      "execution_count": null,
      "id": "bb234aa2",
      "metadata": {
        "id": "bb234aa2"
      },
      "outputs": [],
      "source": [
        "# Convert 'Number of Ratings' to strings, remove commas, and then convert to float\n",
        "df['Number of Ratings'] = df['Number of Ratings'].astype(str).str.replace(',', '').astype(float)\n",
        "# Multiply two columns and create a new column\n",
        "df['Total Ratings'] = df['Number of Ratings'] * df['Rating ?/5']"
      ]
    },
    {
      "cell_type": "markdown",
      "id": "3a33a09a",
      "metadata": {
        "id": "3a33a09a"
      },
      "source": [
        "### Dropping Garbage variables"
      ]
    },
    {
      "cell_type": "code",
      "execution_count": null,
      "id": "47a342f5",
      "metadata": {
        "id": "47a342f5"
      },
      "outputs": [],
      "source": [
        "df.drop(['Back/Rare Camera','Number of Ratings','ROM/Storage','RAM', 'Front Camera', 'Battery', 'Processor', 'Phone Name'], axis=1, inplace=True)"
      ]
    },
    {
      "cell_type": "markdown",
      "id": "310c3dbd",
      "metadata": {
        "id": "310c3dbd"
      },
      "source": [
        "## EDA"
      ]
    },
    {
      "cell_type": "code",
      "execution_count": null,
      "id": "0c1e095e",
      "metadata": {
        "colab": {
          "base_uri": "https://localhost:8080/",
          "height": 423
        },
        "id": "0c1e095e",
        "outputId": "e7f74f09-6316-427f-e4a1-394f375f47e2"
      },
      "outputs": [
        {
          "output_type": "execute_result",
          "data": {
            "text/plain": [
              "<Axes: ylabel='Rating ?/5'>"
            ]
          },
          "metadata": {},
          "execution_count": 18
        },
        {
          "output_type": "display_data",
          "data": {
            "text/plain": [
              "<Figure size 640x480 with 1 Axes>"
            ],
            "image/png": "[encoded data removed]"
          },
          "metadata": {}
        }
      ],
      "source": [
        "df.groupby('Company_Name')['Rating ?/5'].mean().sort_values(ascending=False).plot(kind='pie')\n"
      ]
    },
    {
      "cell_type": "code",
      "execution_count": null,
      "id": "1f9a8d53",
      "metadata": {
        "colab": {
          "base_uri": "https://localhost:8080/"
        },
        "id": "1f9a8d53",
        "outputId": "e771ade0-2126-4f03-87df-4abab8df3b4e"
      },
      "outputs": [
        {
          "output_type": "execute_result",
          "data": {
            "text/plain": [
              "Company_Name\n",
              "APPLE       82085.343284\n",
              "Apple       64447.700000\n",
              "Google      54499.058824\n",
              "Nexus       41998.666667\n",
              "OnePlus     35447.591667\n",
              "Nothing     33299.000000\n",
              "Xiaomi      31497.071429\n",
              "Huawei      24222.272727\n",
              "vivo        23982.888889\n",
              "SAMSUNG     22907.966667\n",
              "Mi          22520.755556\n",
              "OPPO        18625.800000\n",
              "MOTOROLA    17913.064103\n",
              "POCO        17511.191667\n",
              "REDMI       15810.916667\n",
              "realme      15277.682403\n",
              "Moto        13061.250000\n",
              "Redmi       12352.471154\n",
              "Lenovo      12082.625000\n",
              "Infinix     11494.833333\n",
              "10A          9999.000000\n",
              "�9A          9499.000000\n",
              "Alcatel      7385.625000\n",
              "Realme       5834.714286\n",
              "Nokia        5562.145833\n",
              "Motorola     1690.666667\n",
              "a            1325.000000\n",
              "A10E         1299.000000\n",
              "Name: Price in INR, dtype: float64"
            ]
          },
          "metadata": {},
          "execution_count": 19
        }
      ],
      "source": [
        "df.groupby('Company_Name')['Price in INR'].mean().sort_values(ascending=False)"
      ]
    },
    {
      "cell_type": "code",
      "execution_count": null,
      "id": "68d9fa7c",
      "metadata": {
        "colab": {
          "base_uri": "https://localhost:8080/"
        },
        "id": "68d9fa7c",
        "outputId": "9f7eee03-5483-4490-eaa4-2c6a6e7b57af"
      },
      "outputs": [
        {
          "output_type": "execute_result",
          "data": {
            "text/plain": [
              "Company_Name\n",
              "Redmi       893467.437500\n",
              "Moto        655484.525000\n",
              "POCO        544610.718333\n",
              "Apple       510058.940000\n",
              "Lenovo      401240.541667\n",
              "Realme      316651.228571\n",
              "APPLE       299779.290299\n",
              "realme      280203.916309\n",
              "Nothing     194752.280000\n",
              "Mi          125893.946667\n",
              "Infinix     118118.491667\n",
              "SAMSUNG     101167.218750\n",
              "MOTOROLA     96710.870513\n",
              "vivo         80836.965278\n",
              "OPPO         75167.281667\n",
              "Nokia        46401.529167\n",
              "Xiaomi       38478.685714\n",
              "Google       34045.852941\n",
              "Motorola     15233.400000\n",
              "REDMI        15188.600000\n",
              "Nexus        13973.166667\n",
              "OnePlus      11124.308333\n",
              "Huawei        2037.754545\n",
              "Alcatel       1558.333333\n",
              "A10E          1037.300000\n",
              "10A             28.800000\n",
              "a                9.000000\n",
              "�9A              0.000000\n",
              "Name: Total Ratings, dtype: float64"
            ]
          },
          "metadata": {},
          "execution_count": 20
        }
      ],
      "source": [
        "df.groupby('Company_Name')['Total Ratings'].mean().sort_values(ascending=False)\n"
      ]
    },
    {
      "cell_type": "code",
      "execution_count": null,
      "id": "50491f77",
      "metadata": {
        "colab": {
          "base_uri": "https://localhost:8080/",
          "height": 423
        },
        "id": "50491f77",
        "outputId": "49ab022f-b93a-46a9-8feb-a4e83918cd3f"
      },
      "outputs": [
        {
          "output_type": "execute_result",
          "data": {
            "text/plain": [
              "<Axes: ylabel='Total Ratings'>"
            ]
          },
          "metadata": {},
          "execution_count": 21
        },
        {
          "output_type": "display_data",
          "data": {
            "text/plain": [
              "<Figure size 640x480 with 1 Axes>"
            ],
            "image/png": "[encoded data removed]"
          },
          "metadata": {}
        }
      ],
      "source": [
        "df.groupby('Company_Name')['Total Ratings'].mean().sort_values(ascending=False).plot(kind='pie')\n"
      ]
    },
    {
      "cell_type": "markdown",
      "id": "a6107359",
      "metadata": {
        "id": "a6107359"
      },
      "source": [
        "## Converting into numeric variables"
      ]
    },
    {
      "cell_type": "code",
      "execution_count": null,
      "id": "182f95eb",
      "metadata": {
        "id": "182f95eb"
      },
      "outputs": [],
      "source": [
        "# List of columns to convert to float\n",
        "columns_to_convert = ['Rating ?/5', 'Price in INR', 'Front_Camera_Number', 'Back/Rare_Camera_Sum',  'Total Ratings']\n",
        "# Convert selected columns to float\n",
        "for i in columns_to_convert:\n",
        "    df[i] = df[i].astype(float)"
      ]
    },
    {
      "cell_type": "code",
      "execution_count": null,
      "id": "0085808a",
      "metadata": {
        "colab": {
          "base_uri": "https://localhost:8080/"
        },
        "id": "0085808a",
        "outputId": "2e191da9-41d3-47ca-bb54-3305d2af218a"
      },
      "outputs": [
        {
          "output_type": "execute_result",
          "data": {
            "text/plain": [
              "Rating ?/5              float64\n",
              "Price in INR            float64\n",
              "Company_Name             object\n",
              "Processor_Name           object\n",
              "Battery_Size             object\n",
              "Front_Camera_Number     float64\n",
              "Back/Rare_Camera_Sum    float64\n",
              "RAM_Size                 object\n",
              "ROM/Storage_Size         object\n",
              "Total Ratings           float64\n",
              "dtype: object"
            ]
          },
          "metadata": {},
          "execution_count": 23
        }
      ],
      "source": [
        "df.dtypes"
      ]
    },
    {
      "cell_type": "markdown",
      "id": "32188dc0",
      "metadata": {
        "id": "32188dc0"
      },
      "source": [
        "## Lable encoding"
      ]
    },
    {
      "cell_type": "code",
      "execution_count": null,
      "id": "0072c040",
      "metadata": {
        "id": "0072c040"
      },
      "outputs": [],
      "source": [
        "from sklearn.preprocessing import LabelEncoder\n",
        "# Identify categorical columns\n",
        "categorical_columns = df.select_dtypes(include=['object']).columns\n",
        "# Initialize the LabelEncoder\n",
        "label_encoder = LabelEncoder()\n",
        "# Apply label encoding to each categorical column and remove the original column\n",
        "for column in categorical_columns:\n",
        "    df[column + '_Encoded'] = label_encoder.fit_transform(df[column])\n",
        "    df = df.drop(column, axis=1)"
      ]
    },
    {
      "cell_type": "code",
      "execution_count": null,
      "id": "09d78839",
      "metadata": {
        "colab": {
          "base_uri": "https://localhost:8080/"
        },
        "id": "09d78839",
        "outputId": "dfe2d6a2-a582-4ceb-ec2d-aea1d3c8bbf8"
      },
      "outputs": [
        {
          "output_type": "execute_result",
          "data": {
            "text/plain": [
              "Index(['Rating ?/5', 'Price in INR', 'Front_Camera_Number',\n",
              "       'Back/Rare_Camera_Sum', 'Total Ratings', 'Company_Name_Encoded',\n",
              "       'Processor_Name_Encoded', 'Battery_Size_Encoded', 'RAM_Size_Encoded',\n",
              "       'ROM/Storage_Size_Encoded'],\n",
              "      dtype='object')"
            ]
          },
          "metadata": {},
          "execution_count": 25
        }
      ],
      "source": [
        "df.columns"
      ]
    },
    {
      "cell_type": "markdown",
      "id": "1b55ecab",
      "metadata": {
        "id": "1b55ecab"
      },
      "source": [
        "# Data Visualisation"
      ]
    },
    {
      "cell_type": "code",
      "execution_count": null,
      "id": "301398d6",
      "metadata": {
        "execution": {
          "iopub.execute_input": "2023-09-29T09:48:49.728345Z",
          "iopub.status.busy": "2023-09-29T09:48:49.727793Z",
          "iopub.status.idle": "2023-09-29T09:48:50.064456Z",
          "shell.execute_reply": "2023-09-29T09:48:50.061587Z"
        },
        "papermill": {
          "duration": 0.348566,
          "end_time": "2023-09-29T09:48:50.067509",
          "exception": false,
          "start_time": "2023-09-29T09:48:49.718943",
          "status": "completed"
        },
        "tags": [],
        "colab": {
          "base_uri": "https://localhost:8080/",
          "height": 634
        },
        "id": "301398d6",
        "outputId": "7708ca41-3695-4e09-eeaa-6bd68948b6d3"
      },
      "outputs": [
        {
          "output_type": "display_data",
          "data": {
            "text/plain": [
              "<Figure size 1200x600 with 2 Axes>"
            ],
            "image/png": "[encoded data removed]"
          },
          "metadata": {}
        }
      ],
      "source": [
        "plt.figure(figsize=(12, 6))\n",
        "sns.heatmap(df.corr(), annot=True, cmap='coolwarm', fmt=\".2f\", linewidths=.5)\n",
        "plt.title(\"Correlation Heatmap\")\n",
        "plt.show()"
      ]
    },
    {
      "cell_type": "markdown",
      "id": "cd30f2d9",
      "metadata": {
        "papermill": {
          "duration": 0.008732,
          "end_time": "2023-09-29T09:48:50.484266",
          "exception": false,
          "start_time": "2023-09-29T09:48:50.475534",
          "status": "completed"
        },
        "tags": [],
        "id": "cd30f2d9"
      },
      "source": [
        "# **Data Splitting**"
      ]
    },
    {
      "cell_type": "code",
      "execution_count": null,
      "id": "ef0bf0a8",
      "metadata": {
        "execution": {
          "iopub.execute_input": "2023-09-29T09:48:50.680189Z",
          "iopub.status.busy": "2023-09-29T09:48:50.679786Z",
          "iopub.status.idle": "2023-09-29T09:48:50.690969Z",
          "shell.execute_reply": "2023-09-29T09:48:50.689550Z"
        },
        "papermill": {
          "duration": 0.023893,
          "end_time": "2023-09-29T09:48:50.693733",
          "exception": false,
          "start_time": "2023-09-29T09:48:50.669840",
          "status": "completed"
        },
        "tags": [],
        "colab": {
          "base_uri": "https://localhost:8080/"
        },
        "id": "ef0bf0a8",
        "outputId": "6fab69c2-8efd-4344-8a08-e4cf0b6445af"
      },
      "outputs": [
        {
          "output_type": "stream",
          "name": "stdout",
          "text": [
            "X_train shape: (1285, 9)\n",
            "X_test shape: (551, 9)\n",
            "y_train shape: (1285,)\n",
            "y_test shape: (551,)\n"
          ]
        }
      ],
      "source": [
        "from sklearn.model_selection import train_test_split\n",
        "\n",
        "X = df.drop(columns=['Price in INR'])  # Features (independent variables)\n",
        "y = df['Price in INR']  # Target variable (dependent variable)\n",
        "\n",
        "# Split the dataset into a training set and a testing set (e.g., 70% training, 30% testing)\n",
        "X_train, X_test, y_train, y_test = train_test_split(X, y, test_size=0.3, random_state=42)\n",
        "\n",
        "# Display the shapes of the resulting datasets\n",
        "print(\"X_train shape:\", X_train.shape)\n",
        "print(\"X_test shape:\", X_test.shape)\n",
        "print(\"y_train shape:\", y_train.shape)\n",
        "print(\"y_test shape:\", y_test.shape)\n"
      ]
    },
    {
      "cell_type": "markdown",
      "id": "c201fdb3",
      "metadata": {
        "papermill": {
          "duration": 0.008578,
          "end_time": "2023-09-29T09:48:50.764617",
          "exception": false,
          "start_time": "2023-09-29T09:48:50.756039",
          "status": "completed"
        },
        "tags": [],
        "id": "c201fdb3"
      },
      "source": [
        "# **XGBOOST Regression Models**"
      ]
    },
    {
      "cell_type": "code",
      "execution_count": null,
      "id": "6aaceebd",
      "metadata": {
        "colab": {
          "base_uri": "https://localhost:8080/"
        },
        "id": "6aaceebd",
        "outputId": "2aa69187-bcfc-4a7e-999b-be5b24faa9cb"
      },
      "outputs": [
        {
          "output_type": "stream",
          "name": "stdout",
          "text": [
            "Mean Absolute Error (MAE): 2353.44149165491\n",
            "Mean Squared Error (MSE): 32665508.272532884\n",
            "Root Mean Squared Error (RMSE): 5715.374727218932\n",
            "R-squared (R2): 0.946517676823049\n"
          ]
        }
      ],
      "source": [
        "# Create DMatrix for XGBoost\n",
        "dtrain = xgb.DMatrix(X_train, label=y_train)\n",
        "dtest = xgb.DMatrix(X_test, label=y_test)\n",
        "# Define XGBoost parameters\n",
        "params = {\n",
        "    'objective': 'reg:squarederror',  # Use regression objective\n",
        "    'eval_metric': 'mae'  # Evaluate based on Mean Absolute Error\n",
        "}\n",
        "# Train the XGBoost model\n",
        "num_rounds = 100  # Number of boosting rounds\n",
        "model = xgb.train(params, dtrain, num_rounds)\n",
        "# Make predictions on the test set\n",
        "y_pred = model.predict(dtest)\n",
        "# Calculate and print evaluation metrics\n",
        "mae = mean_absolute_error(y_test, y_pred)\n",
        "mse = mean_squared_error(y_test, y_pred)\n",
        "rmse = mean_squared_error(y_test, y_pred, squared=False)\n",
        "r2 = r2_score(y_test, y_pred)\n",
        "print(\"Mean Absolute Error (MAE):\", mae)\n",
        "print(\"Mean Squared Error (MSE):\", mse)\n",
        "print(\"Root Mean Squared Error (RMSE):\", rmse)\n",
        "print(\"R-squared (R2):\", r2)"
      ]
    },
    {
      "cell_type": "markdown",
      "id": "209b7d4c",
      "metadata": {
        "id": "209b7d4c"
      },
      "source": [
        "# **Decision Tree Regresson**"
      ]
    },
    {
      "cell_type": "code",
      "execution_count": null,
      "id": "0d2ed164",
      "metadata": {
        "colab": {
          "base_uri": "https://localhost:8080/"
        },
        "id": "0d2ed164",
        "outputId": "310a5c2b-61be-42a1-a1d9-716ab176284d"
      },
      "outputs": [
        {
          "output_type": "stream",
          "name": "stdout",
          "text": [
            "Decision Tree Model:\n",
            "Mean Absolute Error (MAE): 2856.6786146400486\n",
            "Mean Squared Error (MSE): 76542736.30690412\n",
            "Root Mean Squared Error (RMSE): 8748.8705732171\n",
            "R-squared (R2): 0.8746787184249571\n"
          ]
        }
      ],
      "source": [
        "# Create an imputer to fill missing values with the mean\n",
        "imputer = SimpleImputer(strategy='mean')\n",
        "# Fit and transform the imputer on the training data\n",
        "X_train_imputed = imputer.fit_transform(X_train)\n",
        "# Transform the test data with the same imputer\n",
        "X_test_imputed = imputer.transform(X_test)\n",
        "# Create Decision Tree model\n",
        "dt_model = DecisionTreeRegressor(random_state=42)\n",
        "# Train the model\n",
        "dt_model.fit(X_train_imputed, y_train)\n",
        "# Make predictions on the test set\n",
        "y_pred_dt = dt_model.predict(X_test_imputed)\n",
        "# Calculate and print evaluation metrics\n",
        "mae_dt = mean_absolute_error(y_test, y_pred_dt)\n",
        "mse_dt = mean_squared_error(y_test, y_pred_dt)\n",
        "rmse_dt = mean_squared_error(y_test, y_pred_dt, squared=False)\n",
        "r2_dt = r2_score(y_test, y_pred_dt)\n",
        "print(\"Decision Tree Model:\")\n",
        "print(\"Mean Absolute Error (MAE):\", mae_dt)\n",
        "print(\"Mean Squared Error (MSE):\", mse_dt)\n",
        "print(\"Root Mean Squared Error (RMSE):\", rmse_dt)\n",
        "print(\"R-squared (R2):\", r2_dt)"
      ]
    },
    {
      "cell_type": "markdown",
      "id": "94a1b4bc",
      "metadata": {
        "id": "94a1b4bc"
      },
      "source": [
        "# **RandomForestRegressor**"
      ]
    },
    {
      "cell_type": "code",
      "execution_count": null,
      "id": "c721c2d6",
      "metadata": {
        "colab": {
          "base_uri": "https://localhost:8080/"
        },
        "id": "c721c2d6",
        "outputId": "a98fc0a9-e02b-43ba-aca0-f941398a172b"
      },
      "outputs": [
        {
          "output_type": "stream",
          "name": "stdout",
          "text": [
            "Random Forest Model:\n",
            "Mean Absolute Error (MAE): 3029.0445073060137\n",
            "Mean Squared Error (MSE): 42606951.087576985\n",
            "Root Mean Squared Error (RMSE): 6527.4000250924555\n",
            "R-squared (R2): 0.9302408305225601\n"
          ]
        }
      ],
      "source": [
        "# Create an imputer to fill missing values with the mean\n",
        "imputer = SimpleImputer(strategy='mean')\n",
        "# Fit and transform the imputer on the training data\n",
        "X_train_imputed = imputer.fit_transform(X_train)\n",
        "# Transform the test data with the same imputer\n",
        "X_test_imputed = imputer.transform(X_test)\n",
        "# Create Random Forest model\n",
        "rf_model = RandomForestRegressor(random_state=42)\n",
        "# Train the model\n",
        "rf_model.fit(X_train_imputed, y_train)\n",
        "# Make predictions on the test set\n",
        "y_pred_rf = rf_model.predict(X_test_imputed)\n",
        "# Calculate and print evaluation metrics\n",
        "mae_rf = mean_absolute_error(y_test, y_pred_rf)\n",
        "mse_rf = mean_squared_error(y_test, y_pred_rf)\n",
        "rmse_rf = mean_squared_error(y_test, y_pred_rf, squared=False)\n",
        "r2_rf = r2_score(y_test, y_pred_rf)\n",
        "print(\"Random Forest Model:\")\n",
        "print(\"Mean Absolute Error (MAE):\", mae_rf)\n",
        "print(\"Mean Squared Error (MSE):\", mse_rf)\n",
        "print(\"Root Mean Squared Error (RMSE):\", rmse_rf)\n",
        "print(\"R-squared (R2):\", r2_rf)\n"
      ]
    },
    {
      "cell_type": "markdown",
      "id": "6b419971",
      "metadata": {
        "id": "6b419971"
      },
      "source": [
        "## Finding Significant features"
      ]
    },
    {
      "cell_type": "code",
      "execution_count": null,
      "id": "c6af4525",
      "metadata": {
        "colab": {
          "base_uri": "https://localhost:8080/"
        },
        "id": "c6af4525",
        "outputId": "284a0ecb-45a8-4dfb-836f-409259a8cf24"
      },
      "outputs": [
        {
          "output_type": "stream",
          "name": "stdout",
          "text": [
            "Top Features:\n",
            "                    Feature  Importance\n",
            "3             Total Ratings      1015.0\n",
            "0                Rating ?/5       623.0\n",
            "2      Back/Rare_Camera_Sum       531.0\n",
            "1       Front_Camera_Number       425.0\n",
            "7          RAM_Size_Encoded       354.0\n",
            "5    Processor_Name_Encoded       323.0\n",
            "4      Company_Name_Encoded       299.0\n",
            "6      Battery_Size_Encoded       299.0\n",
            "8  ROM/Storage_Size_Encoded       199.0\n"
          ]
        }
      ],
      "source": [
        "importances = model.get_score(importance_type='weight')\n",
        "# Create a DataFrame to display feature importances\n",
        "feature_importance_df = pd.DataFrame({\n",
        "    'Feature': list(importances.keys()),\n",
        "    'Importance': list(importances.values())\n",
        "})\n",
        "# Sort the DataFrame by Importance in descending order\n",
        "feature_importance_df = feature_importance_df.sort_values(by='Importance', ascending=False)\n",
        "# Display the top features\n",
        "top_features = feature_importance_df.head(10)\n",
        "print(\"Top Features:\")\n",
        "print(top_features)\n"
      ]
    },
    {
      "cell_type": "markdown",
      "id": "147f4188",
      "metadata": {
        "id": "147f4188"
      },
      "source": [
        "## Ratings has the most significant impact on price followed by camera"
      ]
    }
  ],
  "metadata": {
    "kernelspec": {
      "display_name": "Python 3",
      "language": "python",
      "name": "python3"
    },
    "language_info": {
      "codemirror_mode": {
        "name": "ipython",
        "version": 3
      },
      "file_extension": ".py",
      "mimetype": "text/x-python",
      "name": "python",
      "nbconvert_exporter": "python",
      "pygments_lexer": "ipython3",
      "version": "3.10.12"
    },
    "papermill": {
      "default_parameters": {},
      "duration": 14.6386,
      "end_time": "2023-09-29T09:48:52.529584",
      "environment_variables": {},
      "exception": null,
      "input_path": "__notebook__.ipynb",
      "output_path": "__notebook__.ipynb",
      "parameters": {},
      "start_time": "2023-09-29T09:48:37.890984",
      "version": "2.4.0"
    },
    "colab": {
      "provenance": []
    }
  },
  "nbformat": 4,
  "nbformat_minor": 5
}